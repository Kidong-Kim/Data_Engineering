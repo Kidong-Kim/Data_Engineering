{
 "cells": [
  {
   "cell_type": "code",
   "execution_count": 1,
   "metadata": {
    "deletable": false,
    "editable": false
   },
   "outputs": [],
   "source": [
    "# Initialize Otter\n",
    "import otter\n",
    "grader = otter.Notebook(\"proj3.ipynb\")"
   ]
  },
  {
   "cell_type": "markdown",
   "metadata": {},
   "source": [
    "# Project 3: Data Transformation\n",
    "\n",
    "## Due Date: Friday 10/28, 11:59 PM\n",
    "\n",
    "## Assignment Details\n",
    "\n",
    "In this project, we'll be working with one month of data from sensors in buildings at UC Berkeley. This is a very typical real-world dataset---i.e. it's kind of a mess. The full dataset contains a giant `data` table of sensor readings that is many billions of readings over the course of a decade; we will look at a single month of that data. It also contains a variety of other tables that contextualize the readings.\n",
    "\n",
    "The schema for the database is shown below. Sometimes people think that if the data is a nice schema, then it's ready to go! We'll see about that.\n",
    "\n",
    "**Note:** Each line represents a relationship between the two fields. The side of the line diverging to three lines / arrows suggests the \"many\" side of the relationship, while the side of the line converging to one arrow suggests the \"one\" side of the relationship."
   ]
  },
  {
   "cell_type": "markdown",
   "metadata": {},
   "source": [
    "<img src=\"data/schema.png\">"
   ]
  },
  {
   "cell_type": "markdown",
   "metadata": {},
   "source": [
    "## Logistics & Scoring Breakdown\n",
    "\n",
    "For Data 101 students, this project is worth 15% of your grade. For Info 258 students, this project is worth 12% of your grade.\n",
    "\n",
    "Each coding question has **both public tests and hidden tests**. Roughly 50% of your coding grade will be made up of your score on the public tests released to you, while the remaining 50% will be made up of unreleased hidden tests. Free-response questions will be manually graded.\n",
    "\n",
    "This is an **individual project**. However, you’re welcome to collaborate with any other student in the class as long as it’s within the academic honesty guidelines.\n",
    "\n",
    "Question | Points\n",
    "--- | ---\n",
    "1a\t| 1\n",
    "1b  | 1\n",
    "1c\t| 1\n",
    "1d\t| 2\n",
    "2a\t| 3\n",
    "2b\t| 1\n",
    "3a\t| 0\n",
    "3b\t| 1\n",
    "3c\t| 1\n",
    "3d  | 0\n",
    "3e  | 2\n",
    "4a\t| 2\n",
    "4b\t| 2\n",
    "4c\t| 3\n",
    "**Total** | 20"
   ]
  },
  {
   "cell_type": "code",
   "execution_count": 2,
   "metadata": {},
   "outputs": [],
   "source": [
    "# Run this cell to set up imports\n",
    "import numpy as np\n",
    "import pandas as pd"
   ]
  },
  {
   "cell_type": "code",
   "execution_count": 3,
   "metadata": {},
   "outputs": [],
   "source": [
    "%reload_ext sql\n",
    "%sql postgresql://jovyan@127.0.0.1:5432/template1"
   ]
  },
  {
   "cell_type": "markdown",
   "metadata": {},
   "source": [
    "## Loading Up the Database\n",
    "To load the database, run the following cell.\n",
    "\n",
    "**IMPORTANT NOTE:** In contrary to previous projects, the database does not reload automatically upon running the following loading cell. If you would like to reload the database (e.g. if your database is modified in undesirable ways), **first restart the kernel**, and then run `!psql -h localhost -c 'DROP DATABASE IF EXISTS ucb_buildings'` in another cell **before** running the cell below."
   ]
  },
  {
   "cell_type": "code",
   "execution_count": 4,
   "metadata": {},
   "outputs": [
    {
     "name": "stdout",
     "output_type": "stream",
     "text": [
      "Database was previously loaded.\n"
     ]
    }
   ],
   "source": [
    "import subprocess\n",
    "import os\n",
    "import warnings\n",
    "\n",
    "call = subprocess.run([\"psql\", \"-h\", \"localhost\", \\\n",
    "                       \"-tAc\", \"SELECT 1 FROM pg_database WHERE datname='ucb_buildings'\", \"template1\"], \\\n",
    "                      stdout=subprocess.PIPE, text=True)\n",
    "\n",
    "if call.stdout != \"1\\n\":\n",
    "    print(\"Loading database...\")\n",
    "    os.system(\"gunzip -c data/proj3.sql.gz | psql -h localhost -d template1 -f -\")\n",
    "else:\n",
    "    print(\"Database was previously loaded.\")"
   ]
  },
  {
   "cell_type": "markdown",
   "metadata": {},
   "source": [
    "Now, run the following cell to connect to the `ucb_buildings` database. There should be no errors after running the following cell."
   ]
  },
  {
   "cell_type": "code",
   "execution_count": 5,
   "metadata": {},
   "outputs": [],
   "source": [
    "%sql postgresql://jovyan@127.0.0.1:5432/ucb_buildings"
   ]
  },
  {
   "cell_type": "markdown",
   "metadata": {},
   "source": [
    "Run the following cell for grading purposes."
   ]
  },
  {
   "cell_type": "code",
   "execution_count": 6,
   "metadata": {},
   "outputs": [],
   "source": [
    "!mkdir -p results"
   ]
  },
  {
   "cell_type": "markdown",
   "metadata": {
    "deletable": false,
    "editable": false
   },
   "source": [
    "<!-- BEGIN QUESTION -->\n",
    "\n",
    "## Question 1: Unboxing the Data\n",
    "\n",
    "### Question 1a\n",
    "\n",
    "Note that the `data` table, in the full database, is billions of rows. What do you notice about the design of the database schema that helps support the large amount of data?\n",
    "\n",
    "**Hint:** There is no need to examine any data here. What is a technique learned in [lecture 15](https://docs.google.com/presentation/d/1GogwyAylHrJoxer_apIkgnWDqC9LxTQ8/edit)? Define that technique.\n",
    "\n",
    "<!--\n",
    "BEGIN QUESTION\n",
    "name: q1a\n",
    "manual: true\n",
    "points: 1\n",
    "-->"
   ]
  },
  {
   "cell_type": "markdown",
   "metadata": {},
   "source": [
    "Entity relation, Using the primary and foreign keys to represents a relationship between entities."
   ]
  },
  {
   "cell_type": "markdown",
   "metadata": {},
   "source": [
    "<!-- END QUESTION -->\n",
    "\n",
    "\n",
    "\n",
    "### Question 1b\n",
    "\n",
    "The diagram claims that `buildings_site_mapping` has a many-to-many relationship with `real_estate_metadata`. Let's validate that. \n",
    "\n",
    "Below is an example of `json_agg` being used with a table; you will need to do this in the next two parts."
   ]
  },
  {
   "cell_type": "code",
   "execution_count": 7,
   "metadata": {},
   "outputs": [
    {
     "name": "stdout",
     "output_type": "stream",
     "text": [
      "   postgresql://jovyan@127.0.0.1:5432/template1\n",
      " * postgresql://jovyan@127.0.0.1:5432/ucb_buildings\n",
      "5 rows affected.\n"
     ]
    },
    {
     "data": {
      "text/html": [
       "<table>\n",
       "    <tr>\n",
       "        <th>site</th>\n",
       "        <th>json_agg</th>\n",
       "    </tr>\n",
       "    <tr>\n",
       "        <td>Sutardja Dai Hall</td>\n",
       "        <td>[{&#x27;site&#x27;: &#x27;Sutardja Dai Hall&#x27;, &#x27;building&#x27;: &#x27;SUTARDJA DAI&#x27;}]</td>\n",
       "    </tr>\n",
       "    <tr>\n",
       "        <td>Le Conte Hall</td>\n",
       "        <td>[{&#x27;site&#x27;: &#x27;Le Conte Hall&#x27;, &#x27;building&#x27;: &#x27;LE CONTE&#x27;}]</td>\n",
       "    </tr>\n",
       "    <tr>\n",
       "        <td>Hildebrand Hall</td>\n",
       "        <td>[{&#x27;site&#x27;: &#x27;Hildebrand Hall&#x27;, &#x27;building&#x27;: &#x27;HILDEBRA ND&#x27;}]</td>\n",
       "    </tr>\n",
       "    <tr>\n",
       "        <td>Stephens Hall</td>\n",
       "        <td>[{&#x27;site&#x27;: &#x27;Stephens Hall&#x27;, &#x27;building&#x27;: &#x27;STEPHENS&#x27;}]</td>\n",
       "    </tr>\n",
       "    <tr>\n",
       "        <td>2000 Carleton Street</td>\n",
       "        <td>[{&#x27;site&#x27;: &#x27;2000 Carleton Street&#x27;, &#x27;building&#x27;: &#x27;CARLETO2 000&#x27;}]</td>\n",
       "    </tr>\n",
       "</table>"
      ],
      "text/plain": [
       "[('Sutardja Dai Hall', [{'site': 'Sutardja Dai Hall', 'building': 'SUTARDJA DAI'}]),\n",
       " ('Le Conte Hall', [{'site': 'Le Conte Hall', 'building': 'LE CONTE'}]),\n",
       " ('Hildebrand Hall', [{'site': 'Hildebrand Hall', 'building': 'HILDEBRA ND'}]),\n",
       " ('Stephens Hall', [{'site': 'Stephens Hall', 'building': 'STEPHENS'}]),\n",
       " ('2000 Carleton Street', [{'site': '2000 Carleton Street', 'building': 'CARLETO2 000'}])]"
      ]
     },
     "execution_count": 7,
     "metadata": {},
     "output_type": "execute_result"
    }
   ],
   "source": [
    "%%sql\n",
    "SELECT b.site, json_agg(b) from buildings_site_mapping b GROUP BY b.site LIMIT 5;"
   ]
  },
  {
   "cell_type": "markdown",
   "metadata": {},
   "source": [
    "Find the **distinct** values of `buildings_site_mapping.building` that match multiple tuples in `real_estate_metadata.building_name`, and for each such value of `buildings_site_mapping.building` return the matches as JSON via `json_agg(real_estate_metadata)`. Your output should contain the building and the `json_agg` in that order. Order your final result by building.\n",
    "\n",
    "**Hint:** You should use a CTE to find the distinct buildings of `buildings_site_mapping` before applying necessary table joins."
   ]
  },
  {
   "cell_type": "code",
   "execution_count": 8,
   "metadata": {},
   "outputs": [
    {
     "name": "stdout",
     "output_type": "stream",
     "text": [
      "   postgresql://jovyan@127.0.0.1:5432/template1\n",
      " * postgresql://jovyan@127.0.0.1:5432/ucb_buildings\n",
      "5 rows affected.\n"
     ]
    },
    {
     "data": {
      "text/html": [
       "<table>\n",
       "    <tr>\n",
       "        <th>building_name</th>\n",
       "        <th>json_agg</th>\n",
       "    </tr>\n",
       "    <tr>\n",
       "        <td>ALUMNI HOUSE</td>\n",
       "        <td>[{&#x27;location&#x27;: &#x27;IRVINE&#x27;, &#x27;building&#x27;: &#x27;9207&#x27;, &#x27;building_name&#x27;: &#x27;ALUMNI HOUSE&#x27;, &#x27;address&#x27;: &#x27;CORE CAMPUS&#x27;, &#x27;city_name&#x27;: &#x27;IRVINE&#x27;, &#x27;county&#x27;: &#x27;ORANGE&#x27;, &#x27;category&#x27;: &#x27;GENERAL&#x27;, &#x27;osfg&#x27;: 4027, &#x27;bldg_asf&#x27;: 2549, &#x27;levels&#x27;: 1, &#x27;year&#x27;: &#x27;1984&#x27;, &#x27;owner&#x27;: &#x27;UC&#x27;, &#x27;mp_code&#x27;: &#x27;P&#x27;, &#x27;book_value&#x27;: 41981}, {&#x27;location&#x27;: &#x27;BERKELEY&#x27;, &#x27;building&#x27;: &#x27;1215&#x27;, &#x27;building_name&#x27;: &#x27;ALUMNI HOUSE&#x27;, &#x27;address&#x27;: &#x27;CORE C22A2M0PUS&#x27;, &#x27;city_name&#x27;: &#x27;BERKELEY&#x27;, &#x27;county&#x27;: &#x27;ALAMEDA&#x27;, &#x27;category&#x27;: &#x27;GENERAL&#x27;, &#x27;osfg&#x27;: 15590, &#x27;bldg_asf&#x27;: 8719, &#x27;levels&#x27;: 2, &#x27;year&#x27;: &#x27;1954&#x27;, &#x27;owner&#x27;: &#x27;UC&#x27;, &#x27;mp_code&#x27;: &#x27;P&#x27;, &#x27;book_value&#x27;: 106819}, {&#x27;location&#x27;: &#x27;FRANCISC SOAN&#x27;, &#x27;building&#x27;: &#x27;2032&#x27;, &#x27;building_name&#x27;: &#x27;ALUMNI HOUSE&#x27;, &#x27;address&#x27;: &#x27;PARNASS US AVE&#x27;, &#x27;city_name&#x27;: &#x27;FRANCISC OSAN&#x27;, &#x27;county&#x27;: &#x27;FRANCISC OSAN&#x27;, &#x27;category&#x27;: &#x27;HEALTH SCIENCE&#x27;, &#x27;osfg&#x27;: 7217, &#x27;bldg_asf&#x27;: 5079, &#x27;levels&#x27;: 3, &#x27;year&#x27;: &#x27;1915&#x27;, &#x27;owner&#x27;: &#x27;UP&#x27;, &#x27;mp_code&#x27;: &#x27;P&#x27;, &#x27;book_value&#x27;: 135923}]</td>\n",
       "    </tr>\n",
       "    <tr>\n",
       "        <td>CAMPBELL</td>\n",
       "        <td>[{&#x27;location&#x27;: &#x27;BERKELEY&#x27;, &#x27;building&#x27;: &#x27;1027&#x27;, &#x27;building_name&#x27;: &#x27;CAMPBELL&#x27;, &#x27;address&#x27;: &#x27;CORE C28A5M0PUS&#x27;, &#x27;city_name&#x27;: &#x27;BERKELEY&#x27;, &#x27;county&#x27;: &#x27;ALAMEDA&#x27;, &#x27;category&#x27;: &#x27;GENERAL&#x27;, &#x27;osfg&#x27;: 83373, &#x27;bldg_asf&#x27;: 50745, &#x27;levels&#x27;: 7, &#x27;year&#x27;: &#x27;2014&#x27;, &#x27;owner&#x27;: &#x27;UC&#x27;, &#x27;mp_code&#x27;: &#x27;P&#x27;, &#x27;book_value&#x27;: 75256344.0}, {&#x27;location&#x27;: &#x27;LOS ANGELES&#x27;, &#x27;building&#x27;: &#x27;4294&#x27;, &#x27;building_name&#x27;: &#x27;CAMPBELL&#x27;, &#x27;address&#x27;: &#x27;PORTOLA P11L8A1Z1A&#x27;, &#x27;city_name&#x27;: &#x27;LOS ANGELES&#x27;, &#x27;county&#x27;: &#x27;LOS ANGELES&#x27;, &#x27;category&#x27;: &#x27;GENERAL&#x27;, &#x27;osfg&#x27;: 55401, &#x27;bldg_asf&#x27;: 32619, &#x27;levels&#x27;: 5, &#x27;year&#x27;: &#x27;1954&#x27;, &#x27;owner&#x27;: &#x27;UC&#x27;, &#x27;mp_code&#x27;: &#x27;P&#x27;, &#x27;book_value&#x27;: 6247192.0}]</td>\n",
       "    </tr>\n",
       "    <tr>\n",
       "        <td>HERTZ</td>\n",
       "        <td>[{&#x27;location&#x27;: &#x27;DAVIS&#x27;, &#x27;building&#x27;: &#x27;9454&#x27;, &#x27;building_name&#x27;: &#x27;HERTZ&#x27;, &#x27;address&#x27;: &#x27;7000 EAST 2A4V0E0 LAKE&#x27;, &#x27;city_name&#x27;: &#x27;LIVERMOR E&#x27;, &#x27;county&#x27;: &#x27;ALAMEDA&#x27;, &#x27;category&#x27;: &#x27;GENERAL&#x27;, &#x27;osfg&#x27;: 10904, &#x27;bldg_asf&#x27;: 8183, &#x27;levels&#x27;: 1, &#x27;year&#x27;: &#x27;1976&#x27;, &#x27;owner&#x27;: &#x27;UC&#x27;, &#x27;mp_code&#x27;: &#x27;P&#x27;, &#x27;book_value&#x27;: 0}, {&#x27;location&#x27;: &#x27;BERKELEY&#x27;, &#x27;building&#x27;: &#x27;1423&#x27;, &#x27;building_name&#x27;: &#x27;HERTZ&#x27;, &#x27;address&#x27;: &#x27;CORE CAMPUS&#x27;, &#x27;city_name&#x27;: &#x27;BERKELEY&#x27;, &#x27;county&#x27;: &#x27;ALAMEDA&#x27;, &#x27;category&#x27;: &#x27;GENERAL&#x27;, &#x27;osfg&#x27;: 31362, &#x27;bldg_asf&#x27;: 13518, &#x27;levels&#x27;: 4, &#x27;year&#x27;: &#x27;1958&#x27;, &#x27;owner&#x27;: &#x27;UC&#x27;, &#x27;mp_code&#x27;: &#x27;P&#x27;, &#x27;book_value&#x27;: 3491181.0}]</td>\n",
       "    </tr>\n",
       "    <tr>\n",
       "        <td>SOUTH</td>\n",
       "        <td>[{&#x27;location&#x27;: &#x27;DAVIS&#x27;, &#x27;building&#x27;: &#x27;3275&#x27;, &#x27;building_name&#x27;: &#x27;SOUTH&#x27;, &#x27;address&#x27;: &#x27;CORE CAMPUS&#x27;, &#x27;city_name&#x27;: &#x27;DAVIS (YOLO)&#x27;, &#x27;county&#x27;: &#x27;YOLO&#x27;, &#x27;category&#x27;: &#x27;GENERAL&#x27;, &#x27;osfg&#x27;: 26594, &#x27;bldg_asf&#x27;: 15323, &#x27;levels&#x27;: 4, &#x27;year&#x27;: &#x27;1912&#x27;, &#x27;owner&#x27;: &#x27;UC&#x27;, &#x27;mp_code&#x27;: &#x27;P&#x27;, &#x27;book_value&#x27;: 3585399.0}, {&#x27;location&#x27;: &#x27;BERKELEY&#x27;, &#x27;building&#x27;: &#x27;1484&#x27;, &#x27;building_name&#x27;: &#x27;SOUTH&#x27;, &#x27;address&#x27;: &#x27;CORE CAMPUS&#x27;, &#x27;city_name&#x27;: &#x27;BERKELEY&#x27;, &#x27;county&#x27;: &#x27;ALAMEDA&#x27;, &#x27;category&#x27;: &#x27;GENERAL&#x27;, &#x27;osfg&#x27;: 30401, &#x27;bldg_asf&#x27;: 15473, &#x27;levels&#x27;: 4, &#x27;year&#x27;: &#x27;1873&#x27;, &#x27;owner&#x27;: &#x27;UC&#x27;, &#x27;mp_code&#x27;: &#x27;P&#x27;, &#x27;book_value&#x27;: 1426174.0}]</td>\n",
       "    </tr>\n",
       "    <tr>\n",
       "        <td>SPROUL</td>\n",
       "        <td>[{&#x27;location&#x27;: &#x27;RIVERSIDE&#x27;, &#x27;building&#x27;: &#x27;P5523&#x27;, &#x27;building_name&#x27;: &#x27;SPROUL&#x27;, &#x27;address&#x27;: &#x27;CORE CAMPUS&#x27;, &#x27;city_name&#x27;: &#x27;RIVERSIDE&#x27;, &#x27;county&#x27;: &#x27;RIVERSIDE&#x27;, &#x27;category&#x27;: &#x27;GENERAL&#x27;, &#x27;osfg&#x27;: 80988, &#x27;bldg_asf&#x27;: 45532, &#x27;levels&#x27;: 5, &#x27;year&#x27;: &#x27;1965&#x27;, &#x27;owner&#x27;: &#x27;UC&#x27;, &#x27;mp_code&#x27;: &#x27;P&#x27;, &#x27;book_value&#x27;: 1296147.0}, {&#x27;location&#x27;: &#x27;BERKELEY&#x27;, &#x27;building&#x27;: &#x27;1210&#x27;, &#x27;building_name&#x27;: &#x27;SPROUL&#x27;, &#x27;address&#x27;: &#x27;CORE 2C6A0M0PUS&#x27;, &#x27;city_name&#x27;: &#x27;BERKELEY&#x27;, &#x27;county&#x27;: &#x27;ALAMEDA&#x27;, &#x27;category&#x27;: &#x27;GENERAL&#x27;, &#x27;osfg&#x27;: 111197, &#x27;bldg_asf&#x27;: 66680, &#x27;levels&#x27;: 6, &#x27;year&#x27;: &#x27;1941&#x27;, &#x27;owner&#x27;: &#x27;UC&#x27;, &#x27;mp_code&#x27;: &#x27;P&#x27;, &#x27;book_value&#x27;: 4278819.0}, {&#x27;location&#x27;: &#x27;DAVIS&#x27;, &#x27;building&#x27;: &#x27;3815&#x27;, &#x27;building_name&#x27;: &#x27;SPROUL&#x27;, &#x27;address&#x27;: &#x27;CORE CAMPUS&#x27;, &#x27;city_name&#x27;: &#x27;DAVIS (YOLO)&#x27;, &#x27;county&#x27;: &#x27;YOLO&#x27;, &#x27;category&#x27;: &#x27;GENERAL&#x27;, &#x27;osfg&#x27;: 53874, &#x27;bldg_asf&#x27;: 27913, &#x27;levels&#x27;: 10, &#x27;year&#x27;: &#x27;1963&#x27;, &#x27;owner&#x27;: &#x27;UC&#x27;, &#x27;mp_code&#x27;: &#x27;P&#x27;, &#x27;book_value&#x27;: 1620880.0}]</td>\n",
       "    </tr>\n",
       "</table>"
      ],
      "text/plain": [
       "[('ALUMNI HOUSE', [{'location': 'IRVINE', 'building': '9207', 'building_name': 'ALUMNI HOUSE', 'address': 'CORE CAMPUS', 'city_name': 'IRVINE', 'county': 'ORANGE', 'cat ... (589 characters truncated) ... SAN', 'category': 'HEALTH SCIENCE', 'osfg': 7217, 'bldg_asf': 5079, 'levels': 3, 'year': '1915', 'owner': 'UP', 'mp_code': 'P', 'book_value': 135923}]),\n",
       " ('CAMPBELL', [{'location': 'BERKELEY', 'building': '1027', 'building_name': 'CAMPBELL', 'address': 'CORE C28A5M0PUS', 'city_name': 'BERKELEY', 'county': 'ALAMEDA', ... (300 characters truncated) ... GELES', 'category': 'GENERAL', 'osfg': 55401, 'bldg_asf': 32619, 'levels': 5, 'year': '1954', 'owner': 'UC', 'mp_code': 'P', 'book_value': 6247192.0}]),\n",
       " ('HERTZ', [{'location': 'DAVIS', 'building': '9454', 'building_name': 'HERTZ', 'address': '7000 EAST 2A4V0E0 LAKE', 'city_name': 'LIVERMOR E', 'county': 'ALAMED ... (273 characters truncated) ... AMEDA', 'category': 'GENERAL', 'osfg': 31362, 'bldg_asf': 13518, 'levels': 4, 'year': '1958', 'owner': 'UC', 'mp_code': 'P', 'book_value': 3491181.0}]),\n",
       " ('SOUTH', [{'location': 'DAVIS', 'building': '3275', 'building_name': 'SOUTH', 'address': 'CORE CAMPUS', 'city_name': 'DAVIS (YOLO)', 'county': 'YOLO', 'categor ... (270 characters truncated) ... AMEDA', 'category': 'GENERAL', 'osfg': 30401, 'bldg_asf': 15473, 'levels': 4, 'year': '1873', 'owner': 'UC', 'mp_code': 'P', 'book_value': 1426174.0}]),\n",
       " ('SPROUL', [{'location': 'RIVERSIDE', 'building': 'P5523', 'building_name': 'SPROUL', 'address': 'CORE CAMPUS', 'city_name': 'RIVERSIDE', 'county': 'RIVERSIDE',  ... (570 characters truncated) ... YOLO', 'category': 'GENERAL', 'osfg': 53874, 'bldg_asf': 27913, 'levels': 10, 'year': '1963', 'owner': 'UC', 'mp_code': 'P', 'book_value': 1620880.0}])]"
      ]
     },
     "execution_count": 8,
     "metadata": {},
     "output_type": "execute_result"
    }
   ],
   "source": [
    "%%sql\n",
    "WITH dist_building AS (SELECT DISTINCT building FROM buildings_site_mapping)\n",
    "SELECT r.building_name, r.json_agg \n",
    "FROM dist_building JOIN (SELECT r.building_name, json_agg(r) from real_estate_metadata r GROUP BY r.building_name HAVING COUNT(*) > 1) as r\n",
    "ON dist_building.building = r.building_name;"
   ]
  },
  {
   "cell_type": "code",
   "execution_count": 9,
   "metadata": {},
   "outputs": [
    {
     "name": "stdout",
     "output_type": "stream",
     "text": [
      "   postgresql://jovyan@127.0.0.1:5432/template1\n",
      " * postgresql://jovyan@127.0.0.1:5432/ucb_buildings\n",
      "5 rows affected.\n",
      "Returning data to local variable result_1b\n"
     ]
    }
   ],
   "source": [
    "%%sql result_1b <<\n",
    "WITH dist_building AS (SELECT DISTINCT building FROM buildings_site_mapping)\n",
    "SELECT r.building_name, r.json_agg \n",
    "FROM dist_building JOIN (SELECT r.building_name, json_agg(r) from real_estate_metadata r GROUP BY r.building_name HAVING COUNT(*) > 1) as r\n",
    "ON dist_building.building = r.building_name;"
   ]
  },
  {
   "cell_type": "code",
   "execution_count": 10,
   "metadata": {},
   "outputs": [],
   "source": [
    "# Do not delete/edit this cell\n",
    "result_1b.DataFrame().to_csv('results/result_1b.csv', index=False)"
   ]
  },
  {
   "cell_type": "code",
   "execution_count": 11,
   "metadata": {
    "deletable": false,
    "editable": false
   },
   "outputs": [
    {
     "data": {
      "text/html": [
       "<p><strong><pre style='display: inline;'>q1b</pre></strong> passed!</p>"
      ],
      "text/plain": [
       "q1b results: All test cases passed!"
      ]
     },
     "execution_count": 11,
     "metadata": {},
     "output_type": "execute_result"
    }
   ],
   "source": [
    "grader.check(\"q1b\")"
   ]
  },
  {
   "cell_type": "markdown",
   "metadata": {},
   "source": [
    "### Question 1c\n",
    "\n",
    "Now find examples of many matches in the opposite direction. For each distinct `real_estate_metadata.building_name` value, find the ones that have multiple matches in `buildings_site_mapping.building`, and for each return a `json_agg` of the multiple values for `buildings_site_mapping`. Your output should contain the building name and the `json_agg` in that order. Order your final result by building name.\n",
    "\n",
    "**Hint:** You should use a CTE to find the distinct building names of `real_estate_metadata` before applying necessary table joins."
   ]
  },
  {
   "cell_type": "code",
   "execution_count": 12,
   "metadata": {},
   "outputs": [
    {
     "name": "stdout",
     "output_type": "stream",
     "text": [
      "   postgresql://jovyan@127.0.0.1:5432/template1\n",
      " * postgresql://jovyan@127.0.0.1:5432/ucb_buildings\n",
      "4 rows affected.\n"
     ]
    },
    {
     "data": {
      "text/html": [
       "<table>\n",
       "    <tr>\n",
       "        <th>building</th>\n",
       "        <th>json_agg</th>\n",
       "    </tr>\n",
       "    <tr>\n",
       "        <td>EDWARDS FLD</td>\n",
       "        <td>[{&#x27;site&#x27;: &#x27;Edwards Stadium East&#x27;, &#x27;building&#x27;: &#x27;EDWARDS FLD&#x27;}, {&#x27;site&#x27;: &#x27;Edwards Stadium West&#x27;, &#x27;building&#x27;: &#x27;EDWARDS FLD&#x27;}]</td>\n",
       "    </tr>\n",
       "    <tr>\n",
       "        <td>HAAS STU BLD</td>\n",
       "        <td>[{&#x27;site&#x27;: &#x27;Haas School Student Services (Water)&#x27;, &#x27;building&#x27;: &#x27;HAAS STU BLD&#x27;}, {&#x27;site&#x27;: &#x27;Haas School of Business&#x27;, &#x27;building&#x27;: &#x27;HAAS STU BLD&#x27;}]</td>\n",
       "    </tr>\n",
       "    <tr>\n",
       "        <td>FAC CLUB</td>\n",
       "        <td>[{&#x27;site&#x27;: &quot;Men&#x27;s Faculty Club&quot;, &#x27;building&#x27;: &#x27;FAC CLUB&#x27;}, {&#x27;site&#x27;: &#x27;Womens Faculty Club&#x27;, &#x27;building&#x27;: &#x27;FAC CLUB&#x27;}]</td>\n",
       "    </tr>\n",
       "    <tr>\n",
       "        <td>SIMON</td>\n",
       "        <td>[{&#x27;site&#x27;: &#x27;Simpson Center&#x27;, &#x27;building&#x27;: &#x27;SIMON&#x27;}, {&#x27;site&#x27;: &#x27;Boalt and Simon Hall&#x27;, &#x27;building&#x27;: &#x27;SIMON&#x27;}]</td>\n",
       "    </tr>\n",
       "</table>"
      ],
      "text/plain": [
       "[('EDWARDS FLD', [{'site': 'Edwards Stadium East', 'building': 'EDWARDS FLD'}, {'site': 'Edwards Stadium West', 'building': 'EDWARDS FLD'}]),\n",
       " ('HAAS STU BLD', [{'site': 'Haas School Student Services (Water)', 'building': 'HAAS STU BLD'}, {'site': 'Haas School of Business', 'building': 'HAAS STU BLD'}]),\n",
       " ('FAC CLUB', [{'site': \"Men's Faculty Club\", 'building': 'FAC CLUB'}, {'site': 'Womens Faculty Club', 'building': 'FAC CLUB'}]),\n",
       " ('SIMON', [{'site': 'Simpson Center', 'building': 'SIMON'}, {'site': 'Boalt and Simon Hall', 'building': 'SIMON'}])]"
      ]
     },
     "execution_count": 12,
     "metadata": {},
     "output_type": "execute_result"
    }
   ],
   "source": [
    "%%sql \n",
    "WITH dist_restate AS (SELECT DISTINCT building_name FROM real_estate_metadata)\n",
    "SELECT b.building, b.json_agg \n",
    "FROM dist_restate JOIN (SELECT b.building, json_agg(b) from buildings_site_mapping b GROUP BY b.building HAVING COUNT(*) > 1) as b\n",
    "ON dist_restate.building_name = b.building;"
   ]
  },
  {
   "cell_type": "code",
   "execution_count": 13,
   "metadata": {
    "scrolled": true
   },
   "outputs": [
    {
     "name": "stdout",
     "output_type": "stream",
     "text": [
      "   postgresql://jovyan@127.0.0.1:5432/template1\n",
      " * postgresql://jovyan@127.0.0.1:5432/ucb_buildings\n",
      "4 rows affected.\n",
      "Returning data to local variable result_1c\n"
     ]
    }
   ],
   "source": [
    "%%sql result_1c <<\n",
    "WITH dist_restate AS (SELECT DISTINCT building_name FROM real_estate_metadata)\n",
    "SELECT b.building, b.json_agg \n",
    "FROM dist_restate JOIN (SELECT b.building, json_agg(b) from buildings_site_mapping b GROUP BY b.building HAVING COUNT(*) > 1) as b\n",
    "ON dist_restate.building_name = b.building;"
   ]
  },
  {
   "cell_type": "code",
   "execution_count": 14,
   "metadata": {},
   "outputs": [],
   "source": [
    "# Do not delete/edit this cell\n",
    "result_1c.DataFrame().to_csv('results/result_1c.csv', index=False)"
   ]
  },
  {
   "cell_type": "code",
   "execution_count": 15,
   "metadata": {
    "deletable": false,
    "editable": false
   },
   "outputs": [
    {
     "data": {
      "text/html": [
       "<p><strong><pre style='display: inline;'>q1c</pre></strong> passed!</p>"
      ],
      "text/plain": [
       "q1c results: All test cases passed!"
      ]
     },
     "execution_count": 15,
     "metadata": {},
     "output_type": "execute_result"
    }
   ],
   "source": [
    "grader.check(\"q1c\")"
   ]
  },
  {
   "cell_type": "markdown",
   "metadata": {
    "deletable": false,
    "editable": false
   },
   "source": [
    "<!-- BEGIN QUESTION -->\n",
    "\n",
    "### Question 1d\n",
    "\n",
    "Do you see any issues with the schema given? In particular, please address the two questions below:\n",
    "- Can you uniquely determine the building given the sensor data? Why? (**Hint:** given a row in the `data` table, can you determine a **uniquely** associated row in `real_estate_metadata` table? Your answer should draw insights from 1b.)\n",
    "- Could `buildings_site_mapping.building` be a valid foreign key pointing to `real_estate_metadata.building_name`? (**Hint:** think about the definition / constraints of a foreign key.)\n",
    "\n",
    "<!--\n",
    "BEGIN QUESTION\n",
    "name: q1d\n",
    "manual: true\n",
    "points: 2\n",
    "-->"
   ]
  },
  {
   "cell_type": "code",
   "execution_count": 16,
   "metadata": {
    "scrolled": true
   },
   "outputs": [
    {
     "name": "stdout",
     "output_type": "stream",
     "text": [
      "   postgresql://jovyan@127.0.0.1:5432/template1\n",
      " * postgresql://jovyan@127.0.0.1:5432/ucb_buildings\n",
      "5 rows affected.\n"
     ]
    },
    {
     "data": {
      "text/html": [
       "<table>\n",
       "    <tr>\n",
       "        <th>time</th>\n",
       "        <th>id</th>\n",
       "        <th>value</th>\n",
       "    </tr>\n",
       "    <tr>\n",
       "        <td>2018-06-12 23:00:09+00:00</td>\n",
       "        <td>a3d3326f-20ab-5f1d-97c7-f3084df43f06</td>\n",
       "        <td>65182.74</td>\n",
       "    </tr>\n",
       "    <tr>\n",
       "        <td>2018-06-12 22:45:09+00:00</td>\n",
       "        <td>a3d3326f-20ab-5f1d-97c7-f3084df43f06</td>\n",
       "        <td>65182.51</td>\n",
       "    </tr>\n",
       "    <tr>\n",
       "        <td>2018-06-12 22:30:09+00:00</td>\n",
       "        <td>a3d3326f-20ab-5f1d-97c7-f3084df43f06</td>\n",
       "        <td>65182.27</td>\n",
       "    </tr>\n",
       "    <tr>\n",
       "        <td>2018-06-12 22:15:10+00:00</td>\n",
       "        <td>a3d3326f-20ab-5f1d-97c7-f3084df43f06</td>\n",
       "        <td>65182.02</td>\n",
       "    </tr>\n",
       "    <tr>\n",
       "        <td>2018-06-12 22:00:09+00:00</td>\n",
       "        <td>a3d3326f-20ab-5f1d-97c7-f3084df43f06</td>\n",
       "        <td>65181.77</td>\n",
       "    </tr>\n",
       "</table>"
      ],
      "text/plain": [
       "[(datetime.datetime(2018, 6, 12, 23, 0, 9, tzinfo=datetime.timezone.utc), 'a3d3326f-20ab-5f1d-97c7-f3084df43f06', 65182.74),\n",
       " (datetime.datetime(2018, 6, 12, 22, 45, 9, tzinfo=datetime.timezone.utc), 'a3d3326f-20ab-5f1d-97c7-f3084df43f06', 65182.51),\n",
       " (datetime.datetime(2018, 6, 12, 22, 30, 9, tzinfo=datetime.timezone.utc), 'a3d3326f-20ab-5f1d-97c7-f3084df43f06', 65182.27),\n",
       " (datetime.datetime(2018, 6, 12, 22, 15, 10, tzinfo=datetime.timezone.utc), 'a3d3326f-20ab-5f1d-97c7-f3084df43f06', 65182.02),\n",
       " (datetime.datetime(2018, 6, 12, 22, 0, 9, tzinfo=datetime.timezone.utc), 'a3d3326f-20ab-5f1d-97c7-f3084df43f06', 65181.77)]"
      ]
     },
     "execution_count": 16,
     "metadata": {},
     "output_type": "execute_result"
    }
   ],
   "source": [
    "%%sql\n",
    "SELECT * FROM data LIMIT 5;"
   ]
  },
  {
   "cell_type": "markdown",
   "metadata": {},
   "source": [
    "We cannot uniquely determine the building given the sensor data, since there could be multiple buildings associated with a given building name.\n",
    "\n",
    "buildings_site_mapping.building cannot be foreign key pointing to real_estate_metadata.building_name. Forign keys (primary keys) must be unique."
   ]
  },
  {
   "cell_type": "markdown",
   "metadata": {},
   "source": [
    "<!-- END QUESTION -->\n",
    "\n",
    "\n",
    "\n",
    "## Question 2: Looking for Outliers in the Readings\n",
    "Physical sensors like the ones generating this data are notorious for producing crazy outliers on occasion. In this section we'll do a little data cleaning of the outliers.\n",
    "\n",
    "All the readings from all different kinds of sensors are mixed together in the `data` table. This hodgepodge of mixed readings is going to require us to do some extra work to look for outliers. Let's get started.\n",
    "\n",
    "### Question 2a: Outlier Detection\n",
    "\n",
    "Let's find the outlying values *for each sensor id*. We'll call something an outlier if it is **3 Hampel X84 intervals** away from the median. If \n",
    "\n",
    "Specifically, create a view `labeled_data` that contains all of the columns in `data` and adds three additional columns at the far right:\n",
    "  - `median` containing the median using `percentile_disc`\n",
    "  - `mad` containing the Median Absolute Deviation (MAD),\n",
    "  - `outlier` that contains `true` for the outlier readings and `false` for the rest. **Also,** for data points where the mad is 0, set this to `false`."
   ]
  },
  {
   "cell_type": "code",
   "execution_count": 17,
   "metadata": {},
   "outputs": [
    {
     "name": "stdout",
     "output_type": "stream",
     "text": [
      "   postgresql://jovyan@127.0.0.1:5432/template1\n",
      " * postgresql://jovyan@127.0.0.1:5432/ucb_buildings\n",
      "Done.\n",
      "Done.\n"
     ]
    },
    {
     "data": {
      "text/plain": [
       "[]"
      ]
     },
     "execution_count": 17,
     "metadata": {},
     "output_type": "execute_result"
    }
   ],
   "source": [
    "%%sql\n",
    "CREATE OR REPLACE VIEW median AS\n",
    "    select id, percentile_disc(0.5) WITHIN GROUP (ORDER BY value) as median\n",
    "    from data\n",
    "            group by id;\n",
    "\n",
    "CREATE OR REPLACE VIEW mad AS\n",
    "    WITH absdevs AS \n",
    "        (SELECT data.id, abs(value - median) as d \n",
    "             FROM data Join median on data.id = median.id)\n",
    "    select id, percentile_disc(0.5) WITHIN GROUP (ORDER BY d) as mad\n",
    "        from absdevs \n",
    "            group by id;\n"
   ]
  },
  {
   "cell_type": "code",
   "execution_count": 18,
   "metadata": {},
   "outputs": [
    {
     "name": "stdout",
     "output_type": "stream",
     "text": [
      "   postgresql://jovyan@127.0.0.1:5432/template1\n",
      " * postgresql://jovyan@127.0.0.1:5432/ucb_buildings\n",
      "Done.\n",
      "100 rows affected.\n",
      "Returning data to local variable result_2a\n"
     ]
    }
   ],
   "source": [
    "%%sql result_2a <<\n",
    "CREATE OR REPLACE VIEW labeled_data AS\n",
    "SELECT time, data.id, value, median, mad, \n",
    "    CASE WHEN value BETWEEN (median-3*1.4826*mad) AND (median+3*1.4826*mad) or mad = 0 THEN false\n",
    "            ELSE true\n",
    "        END AS outlier\n",
    "from data join median on data.id = median.id join mad on mad.id = data.id;\n",
    "SELECT * FROM labeled_data WHERE outlier ORDER BY id, time LIMIT 100;"
   ]
  },
  {
   "cell_type": "code",
   "execution_count": 19,
   "metadata": {},
   "outputs": [],
   "source": [
    "# Do not delete/edit this cell\n",
    "result_2a.DataFrame().to_csv('results/result_2a.csv', index=False)"
   ]
  },
  {
   "cell_type": "code",
   "execution_count": 20,
   "metadata": {
    "deletable": false,
    "editable": false,
    "scrolled": true
   },
   "outputs": [
    {
     "data": {
      "text/html": [
       "<p><strong><pre style='display: inline;'>q2a</pre></strong> passed!</p>"
      ],
      "text/plain": [
       "q2a results: All test cases passed!"
      ]
     },
     "execution_count": 20,
     "metadata": {},
     "output_type": "execute_result"
    }
   ],
   "source": [
    "grader.check(\"q2a\")"
   ]
  },
  {
   "cell_type": "markdown",
   "metadata": {},
   "source": [
    "### Question 2b: Outlier Handling (Winsorization)\n",
    "\n",
    "In this step we'll define a view `cleaned_data` over all the columns of `labeled_data` and one additional column on the far right called `clean_value`. This column will contain a copy of `data.value` if that value is not an outlier. For outliers, it should contain the value Winsorized to the nearest outlier boundary value (3 Hampel X84 intervals from the median). If the MAD is 0, then the cleaned value should be the same as the original value."
   ]
  },
  {
   "cell_type": "code",
   "execution_count": 21,
   "metadata": {},
   "outputs": [
    {
     "name": "stdout",
     "output_type": "stream",
     "text": [
      "   postgresql://jovyan@127.0.0.1:5432/template1\n",
      " * postgresql://jovyan@127.0.0.1:5432/ucb_buildings\n",
      "Done.\n",
      "100 rows affected.\n",
      "Returning data to local variable result_2b\n"
     ]
    }
   ],
   "source": [
    "%%sql result_2b <<\n",
    "CREATE OR REPLACE VIEW cleaned_data AS\n",
    "select *,\n",
    "    case WHEN mad = 0 or not outlier THEN value \n",
    "        WHEN outlier and value > median+3*1.4826*mad THEN median+3*1.4826*mad\n",
    "        WHEN outlier and value < median-3*1.4826*mad THEN median-3*1.4826*mad\n",
    "            END AS clean_value\n",
    "from labeled_data;\n",
    "SELECT * FROM cleaned_data WHERE outlier ORDER BY id, time LIMIT 100;"
   ]
  },
  {
   "cell_type": "code",
   "execution_count": 22,
   "metadata": {},
   "outputs": [],
   "source": [
    "# Do not delete/edit this cell\n",
    "result_2b.DataFrame().to_csv('results/result_2b.csv', index=False)"
   ]
  },
  {
   "cell_type": "code",
   "execution_count": 23,
   "metadata": {
    "deletable": false,
    "editable": false
   },
   "outputs": [
    {
     "data": {
      "text/html": [
       "<p><strong><pre style='display: inline;'>q2b</pre></strong> passed!</p>"
      ],
      "text/plain": [
       "q2b results: All test cases passed!"
      ]
     },
     "execution_count": 23,
     "metadata": {},
     "output_type": "execute_result"
    }
   ],
   "source": [
    "grader.check(\"q2b\")"
   ]
  },
  {
   "cell_type": "markdown",
   "metadata": {
    "deletable": false,
    "editable": false
   },
   "source": [
    "<!-- BEGIN QUESTION -->\n",
    "\n",
    "## Question 3: Entity Resolution\n",
    "\n",
    "### Question 3a\n",
    "There is a lot of mess in this dataset related to entity names. As a start, have a look at all of the distinct values in the `units` field of the `metadata` table. What do you notice about these values? Are there any duplicates?\n",
    "\n",
    "<!--\n",
    "BEGIN QUESTION\n",
    "name: q3a\n",
    "manual: true\n",
    "points: 0\n",
    "-->"
   ]
  },
  {
   "cell_type": "markdown",
   "metadata": {},
   "source": [
    "By looking at the distinct units of metadata, some units have multiple names although they are the same. "
   ]
  },
  {
   "cell_type": "markdown",
   "metadata": {
    "deletable": false,
    "editable": false
   },
   "source": [
    "<!-- END QUESTION -->\n",
    "\n",
    "<!-- BEGIN QUESTION -->\n",
    "\n",
    "### Question 3b\n",
    "\n",
    "Sometimes, entity resolution is as simple as a text transformation. For example, how many unique `units` values are there, and how many would there be if we ignored case (upper vs. lower case)? Your output should be a table with one row and two columns; the first column should contain the number of unique `units` values, and the second column should contain the number of unique `units` values if we ignored case. The two columns can have arbitrary names.\n",
    "\n",
    "<!--\n",
    "BEGIN QUESTION\n",
    "name: q3bm\n",
    "manual: true\n",
    "points: 0\n",
    "-->"
   ]
  },
  {
   "cell_type": "code",
   "execution_count": 24,
   "metadata": {},
   "outputs": [
    {
     "name": "stdout",
     "output_type": "stream",
     "text": [
      "   postgresql://jovyan@127.0.0.1:5432/template1\n",
      " * postgresql://jovyan@127.0.0.1:5432/ucb_buildings\n",
      "Done.\n",
      "34 rows affected.\n",
      "Returning data to local variable result_3b\n"
     ]
    }
   ],
   "source": [
    "%%sql result_3b <<\n",
    "CREATE OR REPLACE VIEW case_ignored as select LOWER(units) as units, count(*) as ignored_count from metadata group by LOWER(units);\n",
    "\n",
    "with unit_count AS (select units, count(*) as count from metadata group by units) \n",
    "\n",
    "select unit_count.count, ignored_count \n",
    "    from unit_count join case_ignored \n",
    "        on LOWER(unit_count.units) = case_ignored.units;"
   ]
  },
  {
   "cell_type": "markdown",
   "metadata": {
    "deletable": false,
    "editable": false
   },
   "source": [
    "<!-- END QUESTION -->\n",
    "\n",
    "<!--\n",
    "BEGIN QUESTION\n",
    "name: q3b\n",
    "points: 1\n",
    "-->"
   ]
  },
  {
   "cell_type": "code",
   "execution_count": 25,
   "metadata": {},
   "outputs": [],
   "source": [
    "# Do not delete/edit this cell\n",
    "result_3b.DataFrame().to_csv('results/result_3b.csv', index=False)"
   ]
  },
  {
   "cell_type": "code",
   "execution_count": 26,
   "metadata": {
    "deletable": false,
    "editable": false
   },
   "outputs": [
    {
     "data": {
      "text/html": [
       "<p><strong><pre style='display: inline;'>q3b</pre></strong> passed!</p>"
      ],
      "text/plain": [
       "q3b results: All test cases passed!"
      ]
     },
     "execution_count": 26,
     "metadata": {},
     "output_type": "execute_result"
    }
   ],
   "source": [
    "grader.check(\"q3b\")"
   ]
  },
  {
   "cell_type": "markdown",
   "metadata": {
    "deletable": false,
    "editable": false
   },
   "source": [
    "<!-- BEGIN QUESTION -->\n",
    "\n",
    "### Question 3c\n",
    "\n",
    "Arguably we shouldn't care about these alternative unit labels, *as long as each sensor class uses a single value of `units` for all its sensor ids*. After all, maybe the capitalization means something to somebody!\n",
    "\n",
    "Write a SQL query that returns single row with one column of value `true` if the condition in italics above holds, or a single row with one column of value `false` otherwise. Please do not hard code this query - we reserve the right to penalize your score if you do so.\n",
    "\n",
    "<!--\n",
    "BEGIN QUESTION\n",
    "name: q3cm\n",
    "manual: true\n",
    "points: 0\n",
    "-->"
   ]
  },
  {
   "cell_type": "code",
   "execution_count": 27,
   "metadata": {},
   "outputs": [
    {
     "name": "stdout",
     "output_type": "stream",
     "text": [
      "   postgresql://jovyan@127.0.0.1:5432/template1\n",
      " * postgresql://jovyan@127.0.0.1:5432/ucb_buildings\n",
      "1 rows affected.\n",
      "Returning data to local variable result_3c\n"
     ]
    }
   ],
   "source": [
    "%%sql result_3c <<\n",
    "with counts as (select count(distinct units) as count \n",
    "                        from metadata group by class)\n",
    "SELECT \n",
    "    CASE WHEN max(count) > 1 Then false\n",
    "    else true\n",
    "    end as bool from counts;"
   ]
  },
  {
   "cell_type": "markdown",
   "metadata": {
    "deletable": false,
    "editable": false
   },
   "source": [
    "<!-- END QUESTION -->\n",
    "\n",
    "<!--\n",
    "BEGIN QUESTION\n",
    "name: q3c\n",
    "points: 1\n",
    "-->"
   ]
  },
  {
   "cell_type": "code",
   "execution_count": 28,
   "metadata": {},
   "outputs": [],
   "source": [
    "# Do not delete/edit this cell\n",
    "result_3c.DataFrame().to_csv('results/result_3c.csv', index=False)"
   ]
  },
  {
   "cell_type": "code",
   "execution_count": 29,
   "metadata": {
    "deletable": false,
    "editable": false
   },
   "outputs": [
    {
     "data": {
      "text/html": [
       "<p><strong><pre style='display: inline;'>q3c</pre></strong> passed!</p>"
      ],
      "text/plain": [
       "q3c results: All test cases passed!"
      ]
     },
     "execution_count": 29,
     "metadata": {},
     "output_type": "execute_result"
    }
   ],
   "source": [
    "grader.check(\"q3c\")"
   ]
  },
  {
   "cell_type": "markdown",
   "metadata": {
    "deletable": false,
    "editable": false
   },
   "source": [
    "<!-- BEGIN QUESTION -->\n",
    "\n",
    "### Question 3d\n",
    "\n",
    "Moving on, have a look at the `real_estate_metadata` table---starting with the distinct values in the `location` field! What do you notice about these values?\n",
    "\n",
    "<!--\n",
    "BEGIN QUESTION\n",
    "name: q3d\n",
    "manual: true\n",
    "points: 0\n",
    "-->"
   ]
  },
  {
   "cell_type": "markdown",
   "metadata": {},
   "source": [
    "Many names with identical meaning but slightly different representation. Show similarity by having similar characters."
   ]
  },
  {
   "cell_type": "markdown",
   "metadata": {},
   "source": [
    "<!-- END QUESTION -->\n",
    "\n",
    "\n",
    "\n",
    "### Question 3e\n",
    "\n",
    "It turns out this table was the result of an [OCR scan](https://en.wikipedia.org/wiki/Optical_character_recognition). We'll just clean up the `location` column for now, and leave you to imagine the effort to do a full cleanup of all columns.\n",
    "\n",
    "To provide some useful utility functions, we have preloaded Postgres' extension packages for \"fuzzy\" string matching and trigrams for you. You can use any of the string functions in those packages if you like ([as documented here for fuzzystrmatch](https://www.postgresql.org/docs/current/fuzzystrmatch.html) or [here for pg_trgm](https://www.postgresql.org/docs/current/pgtrgm.html)).\n",
    "\n",
    "We also created a lookup table of canonical names, `uc_locations`.\n",
    "\n",
    "Now, using any of the string functions you like (or none at all!), write a SQL query that returns the columns `(building_name, address, location, clean_location)` where `clean_location` contains the best match from `uc_locations.loc_name`. You may find that you can't clean up everything with the string functions, so your view may have to include some specific logic for cases in the data that have to be handled \"manually\". You can choose to do this question in whatever manner you wish as long as your query does not use `CREATE TABLE`, `INSERT INTO`, or `UPDATE`."
   ]
  },
  {
   "cell_type": "code",
   "execution_count": 30,
   "metadata": {},
   "outputs": [
    {
     "name": "stdout",
     "output_type": "stream",
     "text": [
      "   postgresql://jovyan@127.0.0.1:5432/template1\n",
      " * postgresql://jovyan@127.0.0.1:5432/ucb_buildings\n",
      "Done.\n",
      "5276 rows affected.\n",
      "Returning data to local variable result_3e\n"
     ]
    }
   ],
   "source": [
    "%%sql result_3e <<\n",
    "CREATE OR REPLACE VIEW sim as select distinct real_estate_metadata.location, uc_locations.loc_name as clean_location,\n",
    "similarity(real_estate_metadata.location, uc_locations.loc_name) as sim\n",
    "from real_estate_metadata, uc_locations\n",
    "where similarity(real_estate_metadata.location, uc_locations.loc_name) > .25;\n",
    "\n",
    "with sim_modified as (select location, clean_location \n",
    "from sim where sim not between .3 and .4)\n",
    "select re.building_name, re.address, re.location, sim.clean_location\n",
    "from real_estate_metadata re join sim_modified sim on re.location = sim.location;"
   ]
  },
  {
   "cell_type": "code",
   "execution_count": 31,
   "metadata": {},
   "outputs": [],
   "source": [
    "# Do not delete/edit this cell\n",
    "result_3e.DataFrame().sort_values(['clean_location', 'building_name', 'address']).iloc[::10].to_csv('results/result_3e.csv', index=False)"
   ]
  },
  {
   "cell_type": "code",
   "execution_count": 32,
   "metadata": {
    "deletable": false,
    "editable": false
   },
   "outputs": [
    {
     "data": {
      "text/html": [
       "<p><strong><pre style='display: inline;'>q3e</pre></strong> passed!</p>"
      ],
      "text/plain": [
       "q3e results: All test cases passed!"
      ]
     },
     "execution_count": 32,
     "metadata": {},
     "output_type": "execute_result"
    }
   ],
   "source": [
    "grader.check(\"q3e\")"
   ]
  },
  {
   "cell_type": "markdown",
   "metadata": {},
   "source": [
    "## Question 4: Interpolating Missing Data\n",
    "Real-world data, real-world problems. Our sensors should be reporting every 15 minutes, but you can be sure that we're missing some data. Here we will fix it. It's a bit more involved than what we looked at in class!\n",
    "\n",
    "### Question 4a: Finding missing readings\n",
    "In the `data` table, the `id` column identifies a unique sensor. Sensor readings should be recorded every 15 minutes from every sensor. Are we missing any readings, and if so which ones? We will focus on readings that are separated by at least 30 minutes or more; readings that are \\[0-30) minutes apart are considered to be fine.\n",
    "\n",
    "To answer this question you'll need to read up a bit on [SQL timestamps](https://www.postgresql.org/docs/current/datatype-datetime.html) and [Functions for manipulating datetime types](https://www.postgresql.org/docs/current/functions-datetime.html). Have a particular look at the following:\n",
    "- The [date_trunc](https://www.postgresql.org/docs/current/functions-datetime.html#FUNCTIONS-DATETIME-TRUNC) function will quantize times to the nearest unit of your choosing. E.g. to round the `time` field to the nearest minute you can say `date_trunc('minute', time)`. **You'll need to quantize to minutes right away before you worry about missing readings.**\n",
    "- There are various ways to enter constant intervals of time as strings. E.g. a 30 minute interval can be written as `interval '30 minutes'` or `'30 minutes'::interval`. See [date/time input](https://www.postgresql.org/docs/current/datatype-datetime.html#DATATYPE-INTERVAL-INPUT) for more info.\n",
    "- You can do arithmetic on date/time types [as documented here](https://www.postgresql.org/docs/current/functions-datetime.html#FUNCTIONS-DATETIME-TRUNC). That will handle all the weird periodicities of clocks and calendars for you. Pay attention to the input and output types of these functions!\n",
    "- Alternatively, the [EXTRACT](https://www.postgresql.org/docs/current/functions-datetime.html#FUNCTIONS-DATETIME-EXTRACT) function is sometimes handy. Note the special `EXTRACT(EPOCH FROM ...)` case. This converts a timestamp into an integer representing the number of seconds since midnight, 1/1/1970 (the dawn of [UNIX time](https://en.wikipedia.org/wiki/Unix_time)!)  You can do normal integer comparisons and arithmetic on the results.\n",
    "- You will need to use the [lag](https://www.geeksforgeeks.org/postgresql-lag-function/) function as the window function.\n",
    "\n",
    "\n",
    "Create a view called `gaps` that augments the `data` schema with three columns:\n",
    "- `lagtime` is the quantized time of the previous reading for that sensor (relative to the current row for a particular row)\n",
    "- `lagvalue` is the value of the previous reading for that sensor\n",
    "- `timediff` is the difference in quantized time between this reading and the previous reading\n",
    "\n",
    "The view should only contain rows where `timediff` is **greater than or equal to 30 minutes**."
   ]
  },
  {
   "cell_type": "code",
   "execution_count": 33,
   "metadata": {},
   "outputs": [
    {
     "name": "stdout",
     "output_type": "stream",
     "text": [
      "   postgresql://jovyan@127.0.0.1:5432/template1\n",
      " * postgresql://jovyan@127.0.0.1:5432/ucb_buildings\n",
      "Done.\n",
      "10 rows affected.\n",
      "Returning data to local variable result_4a\n"
     ]
    }
   ],
   "source": [
    "%%sql result_4a <<\n",
    "CREATE OR REPLACE VIEW gaps AS\n",
    "with tmp as (select date_trunc('minute', time) as time, id, value,\n",
    "             lag(date_trunc('minute', time), 1) over (partition by id order by time) as lagtime, \n",
    "             lag(value, 1) over (partition by id order by time) as lagvalue \n",
    "             from data)\n",
    "select *, time - lagtime as timediff from tmp \n",
    "where time - lagtime >= interval '30 minutes';\n",
    "SELECT * FROM gaps ORDER BY id, time LIMIT 10;"
   ]
  },
  {
   "cell_type": "code",
   "execution_count": 34,
   "metadata": {},
   "outputs": [],
   "source": [
    "# Do not delete/edit this cell\n",
    "result_4a.DataFrame().to_csv('results/result_4a.csv', index=False)"
   ]
  },
  {
   "cell_type": "code",
   "execution_count": 35,
   "metadata": {
    "deletable": false,
    "editable": false,
    "scrolled": true
   },
   "outputs": [
    {
     "data": {
      "text/html": [
       "<p><strong><pre style='display: inline;'>q4a</pre></strong> passed!</p>"
      ],
      "text/plain": [
       "q4a results: All test cases passed!"
      ]
     },
     "execution_count": 35,
     "metadata": {},
     "output_type": "execute_result"
    }
   ],
   "source": [
    "grader.check(\"q4a\")"
   ]
  },
  {
   "cell_type": "markdown",
   "metadata": {},
   "source": [
    "### Question 4b: Creating tuples for the missing readings\n",
    "Now we need to manufacture new tuples to fill in the gaps. For example, if you had a tuple from id `abc` timestamped at 1PM today and the next tuple in time from `abc` was timestamped at 1:45PM, you'll need to manufacture two new tuples with id `abc` and `NULL` values: one timestamped at 1:15PM and another timestamped at 1:30PM. We will worry about replacing the `NULL` values in the next step.\n",
    "\n",
    "To manufacture tuples not related to stored data in the database, we'll need to use a *table-valued function* as we did in lecture 12 (when we manufactured data from a normal distribution). The table-valued function we want here is `generate_series` [(documented here)](https://www.postgresql.org/docs/current/functions-srf.html), which we will use to generate *and sequentially timestamp* the right number of tuples to match the number of tuples we found missing.\n",
    "\n",
    "To get a feel for `generate_series`, consider the following simple query that generates a table of integers with intervals of size 3 between them."
   ]
  },
  {
   "cell_type": "code",
   "execution_count": 36,
   "metadata": {},
   "outputs": [
    {
     "name": "stdout",
     "output_type": "stream",
     "text": [
      "   postgresql://jovyan@127.0.0.1:5432/template1\n",
      " * postgresql://jovyan@127.0.0.1:5432/ucb_buildings\n",
      "4 rows affected.\n"
     ]
    },
    {
     "data": {
      "text/html": [
       "<table>\n",
       "    <tr>\n",
       "        <th>generate_series</th>\n",
       "    </tr>\n",
       "    <tr>\n",
       "        <td>1</td>\n",
       "    </tr>\n",
       "    <tr>\n",
       "        <td>4</td>\n",
       "    </tr>\n",
       "    <tr>\n",
       "        <td>7</td>\n",
       "    </tr>\n",
       "    <tr>\n",
       "        <td>10</td>\n",
       "    </tr>\n",
       "</table>"
      ],
      "text/plain": [
       "[(1,), (4,), (7,), (10,)]"
      ]
     },
     "execution_count": 36,
     "metadata": {},
     "output_type": "execute_result"
    }
   ],
   "source": [
    "%%sql\n",
    "SELECT *\n",
    "  FROM generate_series(1, 10, 3);"
   ]
  },
  {
   "cell_type": "markdown",
   "metadata": {},
   "source": [
    "Now, we can use `generate_series` in a `LATERAL JOIN` query: for each tuple on the left of the `LATERAL` it will produce a series based on the values of that tuple. So for example, we can generate 2 tuples for each tuple of `uc_locations` as follows:"
   ]
  },
  {
   "cell_type": "code",
   "execution_count": 37,
   "metadata": {},
   "outputs": [
    {
     "name": "stdout",
     "output_type": "stream",
     "text": [
      "   postgresql://jovyan@127.0.0.1:5432/template1\n",
      " * postgresql://jovyan@127.0.0.1:5432/ucb_buildings\n",
      "24 rows affected.\n"
     ]
    },
    {
     "data": {
      "text/html": [
       "<table>\n",
       "    <tr>\n",
       "        <th>loc_id</th>\n",
       "        <th>loc_name</th>\n",
       "        <th>length</th>\n",
       "        <th>newval</th>\n",
       "    </tr>\n",
       "    <tr>\n",
       "        <td>1</td>\n",
       "        <td>AG FIELD STAT</td>\n",
       "        <td>13</td>\n",
       "        <td>13</td>\n",
       "    </tr>\n",
       "    <tr>\n",
       "        <td>1</td>\n",
       "        <td>AG FIELD STAT</td>\n",
       "        <td>13</td>\n",
       "        <td>15</td>\n",
       "    </tr>\n",
       "    <tr>\n",
       "        <td>2</td>\n",
       "        <td>BERKELEY</td>\n",
       "        <td>8</td>\n",
       "        <td>8</td>\n",
       "    </tr>\n",
       "    <tr>\n",
       "        <td>2</td>\n",
       "        <td>BERKELEY</td>\n",
       "        <td>8</td>\n",
       "        <td>10</td>\n",
       "    </tr>\n",
       "    <tr>\n",
       "        <td>3</td>\n",
       "        <td>DAVIS</td>\n",
       "        <td>5</td>\n",
       "        <td>5</td>\n",
       "    </tr>\n",
       "    <tr>\n",
       "        <td>3</td>\n",
       "        <td>DAVIS</td>\n",
       "        <td>5</td>\n",
       "        <td>7</td>\n",
       "    </tr>\n",
       "    <tr>\n",
       "        <td>4</td>\n",
       "        <td>IRVINE</td>\n",
       "        <td>6</td>\n",
       "        <td>6</td>\n",
       "    </tr>\n",
       "    <tr>\n",
       "        <td>4</td>\n",
       "        <td>IRVINE</td>\n",
       "        <td>6</td>\n",
       "        <td>8</td>\n",
       "    </tr>\n",
       "    <tr>\n",
       "        <td>5</td>\n",
       "        <td>LOS ANGELES</td>\n",
       "        <td>11</td>\n",
       "        <td>11</td>\n",
       "    </tr>\n",
       "    <tr>\n",
       "        <td>5</td>\n",
       "        <td>LOS ANGELES</td>\n",
       "        <td>11</td>\n",
       "        <td>13</td>\n",
       "    </tr>\n",
       "    <tr>\n",
       "        <td>6</td>\n",
       "        <td>MERCED</td>\n",
       "        <td>6</td>\n",
       "        <td>6</td>\n",
       "    </tr>\n",
       "    <tr>\n",
       "        <td>6</td>\n",
       "        <td>MERCED</td>\n",
       "        <td>6</td>\n",
       "        <td>8</td>\n",
       "    </tr>\n",
       "    <tr>\n",
       "        <td>7</td>\n",
       "        <td>RIVERSIDE</td>\n",
       "        <td>9</td>\n",
       "        <td>9</td>\n",
       "    </tr>\n",
       "    <tr>\n",
       "        <td>7</td>\n",
       "        <td>RIVERSIDE</td>\n",
       "        <td>9</td>\n",
       "        <td>11</td>\n",
       "    </tr>\n",
       "    <tr>\n",
       "        <td>8</td>\n",
       "        <td>SAN DIEGO</td>\n",
       "        <td>9</td>\n",
       "        <td>9</td>\n",
       "    </tr>\n",
       "    <tr>\n",
       "        <td>8</td>\n",
       "        <td>SAN DIEGO</td>\n",
       "        <td>9</td>\n",
       "        <td>11</td>\n",
       "    </tr>\n",
       "    <tr>\n",
       "        <td>9</td>\n",
       "        <td>SAN FRANCISCO</td>\n",
       "        <td>13</td>\n",
       "        <td>13</td>\n",
       "    </tr>\n",
       "    <tr>\n",
       "        <td>9</td>\n",
       "        <td>SAN FRANCISCO</td>\n",
       "        <td>13</td>\n",
       "        <td>15</td>\n",
       "    </tr>\n",
       "    <tr>\n",
       "        <td>10</td>\n",
       "        <td>SANTA BARBARA</td>\n",
       "        <td>13</td>\n",
       "        <td>13</td>\n",
       "    </tr>\n",
       "    <tr>\n",
       "        <td>10</td>\n",
       "        <td>SANTA BARBARA</td>\n",
       "        <td>13</td>\n",
       "        <td>15</td>\n",
       "    </tr>\n",
       "    <tr>\n",
       "        <td>11</td>\n",
       "        <td>SANTA CRUZ</td>\n",
       "        <td>10</td>\n",
       "        <td>10</td>\n",
       "    </tr>\n",
       "    <tr>\n",
       "        <td>11</td>\n",
       "        <td>SANTA CRUZ</td>\n",
       "        <td>10</td>\n",
       "        <td>12</td>\n",
       "    </tr>\n",
       "    <tr>\n",
       "        <td>12</td>\n",
       "        <td>SYSTEMWIDE</td>\n",
       "        <td>10</td>\n",
       "        <td>10</td>\n",
       "    </tr>\n",
       "    <tr>\n",
       "        <td>12</td>\n",
       "        <td>SYSTEMWIDE</td>\n",
       "        <td>10</td>\n",
       "        <td>12</td>\n",
       "    </tr>\n",
       "</table>"
      ],
      "text/plain": [
       "[(1, 'AG FIELD STAT', 13, 13),\n",
       " (1, 'AG FIELD STAT', 13, 15),\n",
       " (2, 'BERKELEY', 8, 8),\n",
       " (2, 'BERKELEY', 8, 10),\n",
       " (3, 'DAVIS', 5, 5),\n",
       " (3, 'DAVIS', 5, 7),\n",
       " (4, 'IRVINE', 6, 6),\n",
       " (4, 'IRVINE', 6, 8),\n",
       " (5, 'LOS ANGELES', 11, 11),\n",
       " (5, 'LOS ANGELES', 11, 13),\n",
       " (6, 'MERCED', 6, 6),\n",
       " (6, 'MERCED', 6, 8),\n",
       " (7, 'RIVERSIDE', 9, 9),\n",
       " (7, 'RIVERSIDE', 9, 11),\n",
       " (8, 'SAN DIEGO', 9, 9),\n",
       " (8, 'SAN DIEGO', 9, 11),\n",
       " (9, 'SAN FRANCISCO', 13, 13),\n",
       " (9, 'SAN FRANCISCO', 13, 15),\n",
       " (10, 'SANTA BARBARA', 13, 13),\n",
       " (10, 'SANTA BARBARA', 13, 15),\n",
       " (11, 'SANTA CRUZ', 10, 10),\n",
       " (11, 'SANTA CRUZ', 10, 12),\n",
       " (12, 'SYSTEMWIDE', 10, 10),\n",
       " (12, 'SYSTEMWIDE', 10, 12)]"
      ]
     },
     "execution_count": 37,
     "metadata": {},
     "output_type": "execute_result"
    }
   ],
   "source": [
    "%%sql\n",
    "SELECT loc_id, loc_name, length(loc_name), newval\n",
    "  FROM uc_locations u, \n",
    "       LATERAL generate_series(length(loc_name), length(loc_name) + 2, 2) AS newval;"
   ]
  },
  {
   "cell_type": "markdown",
   "metadata": {},
   "source": [
    "Notice how the 2 values it generates are the length of the `loc_name`, and the length + 2. You might want to play with the query above to make sure you understand the documentation for `generate_series` and `LATERAL`."
   ]
  },
  {
   "cell_type": "markdown",
   "metadata": {},
   "source": [
    "Ok, on to your task!\n",
    "\n",
    "Create a view `complete` that contains the tuples from `data` as well as new tuples that fill in any gaps greater than or equal to 30 minutes. Each gap should be filled by adding tuples in increments of 15 minutes from the *start* of the gap, **with `NULL` as the value**. You probably want to use your `gaps` view as well as `generate_series` to do this!\n",
    "\n",
    "**Hint:** the lower and upper bounds in generate_series (in pseudocode) should be `(lagtime + 15 minutes, time - 15 minutes)`."
   ]
  },
  {
   "cell_type": "code",
   "execution_count": 38,
   "metadata": {},
   "outputs": [
    {
     "name": "stdout",
     "output_type": "stream",
     "text": [
      "   postgresql://jovyan@127.0.0.1:5432/template1\n",
      " * postgresql://jovyan@127.0.0.1:5432/ucb_buildings\n",
      "50 rows affected.\n",
      "50 rows affected.\n"
     ]
    },
    {
     "data": {
      "text/html": [
       "<table>\n",
       "    <tr>\n",
       "        <th>time</th>\n",
       "        <th>id</th>\n",
       "        <th>value</th>\n",
       "    </tr>\n",
       "    <tr>\n",
       "        <td>2018-06-12 23:00:09+00:00</td>\n",
       "        <td>a3d3326f-20ab-5f1d-97c7-f3084df43f06</td>\n",
       "        <td>65182.74</td>\n",
       "    </tr>\n",
       "    <tr>\n",
       "        <td>2018-06-12 22:45:09+00:00</td>\n",
       "        <td>a3d3326f-20ab-5f1d-97c7-f3084df43f06</td>\n",
       "        <td>65182.51</td>\n",
       "    </tr>\n",
       "    <tr>\n",
       "        <td>2018-06-12 22:30:09+00:00</td>\n",
       "        <td>a3d3326f-20ab-5f1d-97c7-f3084df43f06</td>\n",
       "        <td>65182.27</td>\n",
       "    </tr>\n",
       "    <tr>\n",
       "        <td>2018-06-12 22:15:10+00:00</td>\n",
       "        <td>a3d3326f-20ab-5f1d-97c7-f3084df43f06</td>\n",
       "        <td>65182.02</td>\n",
       "    </tr>\n",
       "    <tr>\n",
       "        <td>2018-06-12 22:00:09+00:00</td>\n",
       "        <td>a3d3326f-20ab-5f1d-97c7-f3084df43f06</td>\n",
       "        <td>65181.77</td>\n",
       "    </tr>\n",
       "    <tr>\n",
       "        <td>2018-06-12 21:45:09+00:00</td>\n",
       "        <td>a3d3326f-20ab-5f1d-97c7-f3084df43f06</td>\n",
       "        <td>65181.54</td>\n",
       "    </tr>\n",
       "    <tr>\n",
       "        <td>2018-06-12 21:30:09+00:00</td>\n",
       "        <td>a3d3326f-20ab-5f1d-97c7-f3084df43f06</td>\n",
       "        <td>65181.3</td>\n",
       "    </tr>\n",
       "    <tr>\n",
       "        <td>2018-06-12 21:15:09+00:00</td>\n",
       "        <td>a3d3326f-20ab-5f1d-97c7-f3084df43f06</td>\n",
       "        <td>65181.04</td>\n",
       "    </tr>\n",
       "    <tr>\n",
       "        <td>2018-06-12 21:00:09+00:00</td>\n",
       "        <td>a3d3326f-20ab-5f1d-97c7-f3084df43f06</td>\n",
       "        <td>65180.8</td>\n",
       "    </tr>\n",
       "    <tr>\n",
       "        <td>2018-06-12 20:45:09+00:00</td>\n",
       "        <td>a3d3326f-20ab-5f1d-97c7-f3084df43f06</td>\n",
       "        <td>65180.57</td>\n",
       "    </tr>\n",
       "    <tr>\n",
       "        <td>2018-06-12 20:30:09+00:00</td>\n",
       "        <td>a3d3326f-20ab-5f1d-97c7-f3084df43f06</td>\n",
       "        <td>65180.33</td>\n",
       "    </tr>\n",
       "    <tr>\n",
       "        <td>2018-06-12 20:15:09+00:00</td>\n",
       "        <td>a3d3326f-20ab-5f1d-97c7-f3084df43f06</td>\n",
       "        <td>65180.07</td>\n",
       "    </tr>\n",
       "    <tr>\n",
       "        <td>2018-06-12 20:00:09+00:00</td>\n",
       "        <td>a3d3326f-20ab-5f1d-97c7-f3084df43f06</td>\n",
       "        <td>65179.84</td>\n",
       "    </tr>\n",
       "    <tr>\n",
       "        <td>2018-06-12 19:45:09+00:00</td>\n",
       "        <td>a3d3326f-20ab-5f1d-97c7-f3084df43f06</td>\n",
       "        <td>65179.61</td>\n",
       "    </tr>\n",
       "    <tr>\n",
       "        <td>2018-06-12 19:30:09+00:00</td>\n",
       "        <td>a3d3326f-20ab-5f1d-97c7-f3084df43f06</td>\n",
       "        <td>65179.35</td>\n",
       "    </tr>\n",
       "    <tr>\n",
       "        <td>2018-06-12 19:15:09+00:00</td>\n",
       "        <td>a3d3326f-20ab-5f1d-97c7-f3084df43f06</td>\n",
       "        <td>65179.11</td>\n",
       "    </tr>\n",
       "    <tr>\n",
       "        <td>2018-06-12 19:00:09+00:00</td>\n",
       "        <td>a3d3326f-20ab-5f1d-97c7-f3084df43f06</td>\n",
       "        <td>65178.87</td>\n",
       "    </tr>\n",
       "    <tr>\n",
       "        <td>2018-06-12 18:45:09+00:00</td>\n",
       "        <td>a3d3326f-20ab-5f1d-97c7-f3084df43f06</td>\n",
       "        <td>65178.63</td>\n",
       "    </tr>\n",
       "    <tr>\n",
       "        <td>2018-06-12 18:30:09+00:00</td>\n",
       "        <td>a3d3326f-20ab-5f1d-97c7-f3084df43f06</td>\n",
       "        <td>65178.37</td>\n",
       "    </tr>\n",
       "    <tr>\n",
       "        <td>2018-06-12 18:15:09+00:00</td>\n",
       "        <td>a3d3326f-20ab-5f1d-97c7-f3084df43f06</td>\n",
       "        <td>65178.14</td>\n",
       "    </tr>\n",
       "    <tr>\n",
       "        <td>2018-06-12 18:00:12+00:00</td>\n",
       "        <td>a3d3326f-20ab-5f1d-97c7-f3084df43f06</td>\n",
       "        <td>65177.9</td>\n",
       "    </tr>\n",
       "    <tr>\n",
       "        <td>2018-06-12 17:45:09+00:00</td>\n",
       "        <td>a3d3326f-20ab-5f1d-97c7-f3084df43f06</td>\n",
       "        <td>65177.65</td>\n",
       "    </tr>\n",
       "    <tr>\n",
       "        <td>2018-06-12 17:30:09+00:00</td>\n",
       "        <td>a3d3326f-20ab-5f1d-97c7-f3084df43f06</td>\n",
       "        <td>65177.4</td>\n",
       "    </tr>\n",
       "    <tr>\n",
       "        <td>2018-06-12 17:15:09+00:00</td>\n",
       "        <td>a3d3326f-20ab-5f1d-97c7-f3084df43f06</td>\n",
       "        <td>65177.17</td>\n",
       "    </tr>\n",
       "    <tr>\n",
       "        <td>2018-06-12 17:00:09+00:00</td>\n",
       "        <td>a3d3326f-20ab-5f1d-97c7-f3084df43f06</td>\n",
       "        <td>65176.92</td>\n",
       "    </tr>\n",
       "    <tr>\n",
       "        <td>2018-06-12 16:45:09+00:00</td>\n",
       "        <td>a3d3326f-20ab-5f1d-97c7-f3084df43f06</td>\n",
       "        <td>65176.66</td>\n",
       "    </tr>\n",
       "    <tr>\n",
       "        <td>2018-06-12 16:30:09+00:00</td>\n",
       "        <td>a3d3326f-20ab-5f1d-97c7-f3084df43f06</td>\n",
       "        <td>65176.41</td>\n",
       "    </tr>\n",
       "    <tr>\n",
       "        <td>2018-06-12 16:15:09+00:00</td>\n",
       "        <td>a3d3326f-20ab-5f1d-97c7-f3084df43f06</td>\n",
       "        <td>65176.18</td>\n",
       "    </tr>\n",
       "    <tr>\n",
       "        <td>2018-06-12 16:00:09+00:00</td>\n",
       "        <td>a3d3326f-20ab-5f1d-97c7-f3084df43f06</td>\n",
       "        <td>65175.93</td>\n",
       "    </tr>\n",
       "    <tr>\n",
       "        <td>2018-06-12 15:45:09+00:00</td>\n",
       "        <td>a3d3326f-20ab-5f1d-97c7-f3084df43f06</td>\n",
       "        <td>65175.73</td>\n",
       "    </tr>\n",
       "    <tr>\n",
       "        <td>2018-06-12 15:30:09+00:00</td>\n",
       "        <td>a3d3326f-20ab-5f1d-97c7-f3084df43f06</td>\n",
       "        <td>65175.54</td>\n",
       "    </tr>\n",
       "    <tr>\n",
       "        <td>2018-06-12 15:15:09+00:00</td>\n",
       "        <td>a3d3326f-20ab-5f1d-97c7-f3084df43f06</td>\n",
       "        <td>65175.37</td>\n",
       "    </tr>\n",
       "    <tr>\n",
       "        <td>2018-06-12 15:00:10+00:00</td>\n",
       "        <td>a3d3326f-20ab-5f1d-97c7-f3084df43f06</td>\n",
       "        <td>65175.17</td>\n",
       "    </tr>\n",
       "    <tr>\n",
       "        <td>2018-06-12 14:45:09+00:00</td>\n",
       "        <td>a3d3326f-20ab-5f1d-97c7-f3084df43f06</td>\n",
       "        <td>65174.98</td>\n",
       "    </tr>\n",
       "    <tr>\n",
       "        <td>2018-06-12 14:30:09+00:00</td>\n",
       "        <td>a3d3326f-20ab-5f1d-97c7-f3084df43f06</td>\n",
       "        <td>65174.79</td>\n",
       "    </tr>\n",
       "    <tr>\n",
       "        <td>2018-06-12 14:15:09+00:00</td>\n",
       "        <td>a3d3326f-20ab-5f1d-97c7-f3084df43f06</td>\n",
       "        <td>65174.61</td>\n",
       "    </tr>\n",
       "    <tr>\n",
       "        <td>2018-06-12 14:00:09+00:00</td>\n",
       "        <td>a3d3326f-20ab-5f1d-97c7-f3084df43f06</td>\n",
       "        <td>65174.41</td>\n",
       "    </tr>\n",
       "    <tr>\n",
       "        <td>2018-06-12 13:45:09+00:00</td>\n",
       "        <td>a3d3326f-20ab-5f1d-97c7-f3084df43f06</td>\n",
       "        <td>65174.23</td>\n",
       "    </tr>\n",
       "    <tr>\n",
       "        <td>2018-06-12 13:30:09+00:00</td>\n",
       "        <td>a3d3326f-20ab-5f1d-97c7-f3084df43f06</td>\n",
       "        <td>65174.04</td>\n",
       "    </tr>\n",
       "    <tr>\n",
       "        <td>2018-06-12 13:15:09+00:00</td>\n",
       "        <td>a3d3326f-20ab-5f1d-97c7-f3084df43f06</td>\n",
       "        <td>65173.85</td>\n",
       "    </tr>\n",
       "    <tr>\n",
       "        <td>2018-06-12 13:00:10+00:00</td>\n",
       "        <td>a3d3326f-20ab-5f1d-97c7-f3084df43f06</td>\n",
       "        <td>65173.67</td>\n",
       "    </tr>\n",
       "    <tr>\n",
       "        <td>2018-06-12 12:45:09+00:00</td>\n",
       "        <td>a3d3326f-20ab-5f1d-97c7-f3084df43f06</td>\n",
       "        <td>65173.48</td>\n",
       "    </tr>\n",
       "    <tr>\n",
       "        <td>2018-06-12 12:30:09+00:00</td>\n",
       "        <td>a3d3326f-20ab-5f1d-97c7-f3084df43f06</td>\n",
       "        <td>65173.28</td>\n",
       "    </tr>\n",
       "    <tr>\n",
       "        <td>2018-06-12 12:15:10+00:00</td>\n",
       "        <td>a3d3326f-20ab-5f1d-97c7-f3084df43f06</td>\n",
       "        <td>65173.1</td>\n",
       "    </tr>\n",
       "    <tr>\n",
       "        <td>2018-06-12 12:00:09+00:00</td>\n",
       "        <td>a3d3326f-20ab-5f1d-97c7-f3084df43f06</td>\n",
       "        <td>65172.91</td>\n",
       "    </tr>\n",
       "    <tr>\n",
       "        <td>2018-06-12 11:45:10+00:00</td>\n",
       "        <td>a3d3326f-20ab-5f1d-97c7-f3084df43f06</td>\n",
       "        <td>65172.73</td>\n",
       "    </tr>\n",
       "    <tr>\n",
       "        <td>2018-06-12 11:30:09+00:00</td>\n",
       "        <td>a3d3326f-20ab-5f1d-97c7-f3084df43f06</td>\n",
       "        <td>65172.52</td>\n",
       "    </tr>\n",
       "    <tr>\n",
       "        <td>2018-06-12 11:15:09+00:00</td>\n",
       "        <td>a3d3326f-20ab-5f1d-97c7-f3084df43f06</td>\n",
       "        <td>65172.34</td>\n",
       "    </tr>\n",
       "    <tr>\n",
       "        <td>2018-06-12 11:00:09+00:00</td>\n",
       "        <td>a3d3326f-20ab-5f1d-97c7-f3084df43f06</td>\n",
       "        <td>65172.16</td>\n",
       "    </tr>\n",
       "    <tr>\n",
       "        <td>2018-06-12 10:45:09+00:00</td>\n",
       "        <td>a3d3326f-20ab-5f1d-97c7-f3084df43f06</td>\n",
       "        <td>65171.97</td>\n",
       "    </tr>\n",
       "</table>"
      ],
      "text/plain": [
       "[(datetime.datetime(2018, 6, 12, 23, 0, 9, tzinfo=datetime.timezone.utc), 'a3d3326f-20ab-5f1d-97c7-f3084df43f06', 65182.74),\n",
       " (datetime.datetime(2018, 6, 12, 22, 45, 9, tzinfo=datetime.timezone.utc), 'a3d3326f-20ab-5f1d-97c7-f3084df43f06', 65182.51),\n",
       " (datetime.datetime(2018, 6, 12, 22, 30, 9, tzinfo=datetime.timezone.utc), 'a3d3326f-20ab-5f1d-97c7-f3084df43f06', 65182.27),\n",
       " (datetime.datetime(2018, 6, 12, 22, 15, 10, tzinfo=datetime.timezone.utc), 'a3d3326f-20ab-5f1d-97c7-f3084df43f06', 65182.02),\n",
       " (datetime.datetime(2018, 6, 12, 22, 0, 9, tzinfo=datetime.timezone.utc), 'a3d3326f-20ab-5f1d-97c7-f3084df43f06', 65181.77),\n",
       " (datetime.datetime(2018, 6, 12, 21, 45, 9, tzinfo=datetime.timezone.utc), 'a3d3326f-20ab-5f1d-97c7-f3084df43f06', 65181.54),\n",
       " (datetime.datetime(2018, 6, 12, 21, 30, 9, tzinfo=datetime.timezone.utc), 'a3d3326f-20ab-5f1d-97c7-f3084df43f06', 65181.3),\n",
       " (datetime.datetime(2018, 6, 12, 21, 15, 9, tzinfo=datetime.timezone.utc), 'a3d3326f-20ab-5f1d-97c7-f3084df43f06', 65181.04),\n",
       " (datetime.datetime(2018, 6, 12, 21, 0, 9, tzinfo=datetime.timezone.utc), 'a3d3326f-20ab-5f1d-97c7-f3084df43f06', 65180.8),\n",
       " (datetime.datetime(2018, 6, 12, 20, 45, 9, tzinfo=datetime.timezone.utc), 'a3d3326f-20ab-5f1d-97c7-f3084df43f06', 65180.57),\n",
       " (datetime.datetime(2018, 6, 12, 20, 30, 9, tzinfo=datetime.timezone.utc), 'a3d3326f-20ab-5f1d-97c7-f3084df43f06', 65180.33),\n",
       " (datetime.datetime(2018, 6, 12, 20, 15, 9, tzinfo=datetime.timezone.utc), 'a3d3326f-20ab-5f1d-97c7-f3084df43f06', 65180.07),\n",
       " (datetime.datetime(2018, 6, 12, 20, 0, 9, tzinfo=datetime.timezone.utc), 'a3d3326f-20ab-5f1d-97c7-f3084df43f06', 65179.84),\n",
       " (datetime.datetime(2018, 6, 12, 19, 45, 9, tzinfo=datetime.timezone.utc), 'a3d3326f-20ab-5f1d-97c7-f3084df43f06', 65179.61),\n",
       " (datetime.datetime(2018, 6, 12, 19, 30, 9, tzinfo=datetime.timezone.utc), 'a3d3326f-20ab-5f1d-97c7-f3084df43f06', 65179.35),\n",
       " (datetime.datetime(2018, 6, 12, 19, 15, 9, tzinfo=datetime.timezone.utc), 'a3d3326f-20ab-5f1d-97c7-f3084df43f06', 65179.11),\n",
       " (datetime.datetime(2018, 6, 12, 19, 0, 9, tzinfo=datetime.timezone.utc), 'a3d3326f-20ab-5f1d-97c7-f3084df43f06', 65178.87),\n",
       " (datetime.datetime(2018, 6, 12, 18, 45, 9, tzinfo=datetime.timezone.utc), 'a3d3326f-20ab-5f1d-97c7-f3084df43f06', 65178.63),\n",
       " (datetime.datetime(2018, 6, 12, 18, 30, 9, tzinfo=datetime.timezone.utc), 'a3d3326f-20ab-5f1d-97c7-f3084df43f06', 65178.37),\n",
       " (datetime.datetime(2018, 6, 12, 18, 15, 9, tzinfo=datetime.timezone.utc), 'a3d3326f-20ab-5f1d-97c7-f3084df43f06', 65178.14),\n",
       " (datetime.datetime(2018, 6, 12, 18, 0, 12, tzinfo=datetime.timezone.utc), 'a3d3326f-20ab-5f1d-97c7-f3084df43f06', 65177.9),\n",
       " (datetime.datetime(2018, 6, 12, 17, 45, 9, tzinfo=datetime.timezone.utc), 'a3d3326f-20ab-5f1d-97c7-f3084df43f06', 65177.65),\n",
       " (datetime.datetime(2018, 6, 12, 17, 30, 9, tzinfo=datetime.timezone.utc), 'a3d3326f-20ab-5f1d-97c7-f3084df43f06', 65177.4),\n",
       " (datetime.datetime(2018, 6, 12, 17, 15, 9, tzinfo=datetime.timezone.utc), 'a3d3326f-20ab-5f1d-97c7-f3084df43f06', 65177.17),\n",
       " (datetime.datetime(2018, 6, 12, 17, 0, 9, tzinfo=datetime.timezone.utc), 'a3d3326f-20ab-5f1d-97c7-f3084df43f06', 65176.92),\n",
       " (datetime.datetime(2018, 6, 12, 16, 45, 9, tzinfo=datetime.timezone.utc), 'a3d3326f-20ab-5f1d-97c7-f3084df43f06', 65176.66),\n",
       " (datetime.datetime(2018, 6, 12, 16, 30, 9, tzinfo=datetime.timezone.utc), 'a3d3326f-20ab-5f1d-97c7-f3084df43f06', 65176.41),\n",
       " (datetime.datetime(2018, 6, 12, 16, 15, 9, tzinfo=datetime.timezone.utc), 'a3d3326f-20ab-5f1d-97c7-f3084df43f06', 65176.18),\n",
       " (datetime.datetime(2018, 6, 12, 16, 0, 9, tzinfo=datetime.timezone.utc), 'a3d3326f-20ab-5f1d-97c7-f3084df43f06', 65175.93),\n",
       " (datetime.datetime(2018, 6, 12, 15, 45, 9, tzinfo=datetime.timezone.utc), 'a3d3326f-20ab-5f1d-97c7-f3084df43f06', 65175.73),\n",
       " (datetime.datetime(2018, 6, 12, 15, 30, 9, tzinfo=datetime.timezone.utc), 'a3d3326f-20ab-5f1d-97c7-f3084df43f06', 65175.54),\n",
       " (datetime.datetime(2018, 6, 12, 15, 15, 9, tzinfo=datetime.timezone.utc), 'a3d3326f-20ab-5f1d-97c7-f3084df43f06', 65175.37),\n",
       " (datetime.datetime(2018, 6, 12, 15, 0, 10, tzinfo=datetime.timezone.utc), 'a3d3326f-20ab-5f1d-97c7-f3084df43f06', 65175.17),\n",
       " (datetime.datetime(2018, 6, 12, 14, 45, 9, tzinfo=datetime.timezone.utc), 'a3d3326f-20ab-5f1d-97c7-f3084df43f06', 65174.98),\n",
       " (datetime.datetime(2018, 6, 12, 14, 30, 9, tzinfo=datetime.timezone.utc), 'a3d3326f-20ab-5f1d-97c7-f3084df43f06', 65174.79),\n",
       " (datetime.datetime(2018, 6, 12, 14, 15, 9, tzinfo=datetime.timezone.utc), 'a3d3326f-20ab-5f1d-97c7-f3084df43f06', 65174.61),\n",
       " (datetime.datetime(2018, 6, 12, 14, 0, 9, tzinfo=datetime.timezone.utc), 'a3d3326f-20ab-5f1d-97c7-f3084df43f06', 65174.41),\n",
       " (datetime.datetime(2018, 6, 12, 13, 45, 9, tzinfo=datetime.timezone.utc), 'a3d3326f-20ab-5f1d-97c7-f3084df43f06', 65174.23),\n",
       " (datetime.datetime(2018, 6, 12, 13, 30, 9, tzinfo=datetime.timezone.utc), 'a3d3326f-20ab-5f1d-97c7-f3084df43f06', 65174.04),\n",
       " (datetime.datetime(2018, 6, 12, 13, 15, 9, tzinfo=datetime.timezone.utc), 'a3d3326f-20ab-5f1d-97c7-f3084df43f06', 65173.85),\n",
       " (datetime.datetime(2018, 6, 12, 13, 0, 10, tzinfo=datetime.timezone.utc), 'a3d3326f-20ab-5f1d-97c7-f3084df43f06', 65173.67),\n",
       " (datetime.datetime(2018, 6, 12, 12, 45, 9, tzinfo=datetime.timezone.utc), 'a3d3326f-20ab-5f1d-97c7-f3084df43f06', 65173.48),\n",
       " (datetime.datetime(2018, 6, 12, 12, 30, 9, tzinfo=datetime.timezone.utc), 'a3d3326f-20ab-5f1d-97c7-f3084df43f06', 65173.28),\n",
       " (datetime.datetime(2018, 6, 12, 12, 15, 10, tzinfo=datetime.timezone.utc), 'a3d3326f-20ab-5f1d-97c7-f3084df43f06', 65173.1),\n",
       " (datetime.datetime(2018, 6, 12, 12, 0, 9, tzinfo=datetime.timezone.utc), 'a3d3326f-20ab-5f1d-97c7-f3084df43f06', 65172.91),\n",
       " (datetime.datetime(2018, 6, 12, 11, 45, 10, tzinfo=datetime.timezone.utc), 'a3d3326f-20ab-5f1d-97c7-f3084df43f06', 65172.73),\n",
       " (datetime.datetime(2018, 6, 12, 11, 30, 9, tzinfo=datetime.timezone.utc), 'a3d3326f-20ab-5f1d-97c7-f3084df43f06', 65172.52),\n",
       " (datetime.datetime(2018, 6, 12, 11, 15, 9, tzinfo=datetime.timezone.utc), 'a3d3326f-20ab-5f1d-97c7-f3084df43f06', 65172.34),\n",
       " (datetime.datetime(2018, 6, 12, 11, 0, 9, tzinfo=datetime.timezone.utc), 'a3d3326f-20ab-5f1d-97c7-f3084df43f06', 65172.16),\n",
       " (datetime.datetime(2018, 6, 12, 10, 45, 9, tzinfo=datetime.timezone.utc), 'a3d3326f-20ab-5f1d-97c7-f3084df43f06', 65171.97)]"
      ]
     },
     "execution_count": 38,
     "metadata": {},
     "output_type": "execute_result"
    }
   ],
   "source": [
    "%%sql\n",
    "with missing as (select g_time, id, null as value\n",
    "                 from gaps, LATERAL generate_series(lagtime + interval '15 minute', \n",
    "                            time - interval '15 minutes', interval '15 minutes') as g_time)\n",
    "select g_time, id, value from missing limit 50;\n",
    "select time, id, value from data limit 50"
   ]
  },
  {
   "cell_type": "code",
   "execution_count": 39,
   "metadata": {},
   "outputs": [
    {
     "name": "stdout",
     "output_type": "stream",
     "text": [
      "   postgresql://jovyan@127.0.0.1:5432/template1\n",
      " * postgresql://jovyan@127.0.0.1:5432/ucb_buildings\n",
      "50 rows affected.\n"
     ]
    },
    {
     "data": {
      "text/html": [
       "<table>\n",
       "    <tr>\n",
       "        <th>time</th>\n",
       "        <th>id</th>\n",
       "        <th>value</th>\n",
       "    </tr>\n",
       "    <tr>\n",
       "        <td>2018-06-13 09:00:00+00:00</td>\n",
       "        <td>a3d47b1a-985e-5395-a6ee-719dad9b580f</td>\n",
       "        <td>None</td>\n",
       "    </tr>\n",
       "    <tr>\n",
       "        <td>2018-06-09 04:00:00+00:00</td>\n",
       "        <td>a3e8e405-0eed-59b6-8747-fe892a6f93de</td>\n",
       "        <td>None</td>\n",
       "    </tr>\n",
       "    <tr>\n",
       "        <td>2018-06-13 09:00:00+00:00</td>\n",
       "        <td>a46fb790-028c-5d17-a3e6-7d08daec0c03</td>\n",
       "        <td>None</td>\n",
       "    </tr>\n",
       "    <tr>\n",
       "        <td>2018-06-09 04:00:00+00:00</td>\n",
       "        <td>a470ac6d-d448-522b-9b74-8ed27f24de25</td>\n",
       "        <td>None</td>\n",
       "    </tr>\n",
       "    <tr>\n",
       "        <td>2018-06-07 00:30:00+00:00</td>\n",
       "        <td>a48e47ab-bbcd-5b39-aaaa-47fbaafe166e</td>\n",
       "        <td>None</td>\n",
       "    </tr>\n",
       "    <tr>\n",
       "        <td>2018-06-07 01:15:00+00:00</td>\n",
       "        <td>a48e47ab-bbcd-5b39-aaaa-47fbaafe166e</td>\n",
       "        <td>None</td>\n",
       "    </tr>\n",
       "    <tr>\n",
       "        <td>2018-06-07 17:30:00+00:00</td>\n",
       "        <td>a48e47ab-bbcd-5b39-aaaa-47fbaafe166e</td>\n",
       "        <td>None</td>\n",
       "    </tr>\n",
       "    <tr>\n",
       "        <td>2018-06-07 18:30:00+00:00</td>\n",
       "        <td>a48e47ab-bbcd-5b39-aaaa-47fbaafe166e</td>\n",
       "        <td>None</td>\n",
       "    </tr>\n",
       "    <tr>\n",
       "        <td>2018-06-07 19:00:00+00:00</td>\n",
       "        <td>a48e47ab-bbcd-5b39-aaaa-47fbaafe166e</td>\n",
       "        <td>None</td>\n",
       "    </tr>\n",
       "    <tr>\n",
       "        <td>2018-06-07 19:30:00+00:00</td>\n",
       "        <td>a48e47ab-bbcd-5b39-aaaa-47fbaafe166e</td>\n",
       "        <td>None</td>\n",
       "    </tr>\n",
       "    <tr>\n",
       "        <td>2018-06-07 20:15:00+00:00</td>\n",
       "        <td>a48e47ab-bbcd-5b39-aaaa-47fbaafe166e</td>\n",
       "        <td>None</td>\n",
       "    </tr>\n",
       "    <tr>\n",
       "        <td>2018-06-07 20:45:00+00:00</td>\n",
       "        <td>a48e47ab-bbcd-5b39-aaaa-47fbaafe166e</td>\n",
       "        <td>None</td>\n",
       "    </tr>\n",
       "    <tr>\n",
       "        <td>2018-06-07 21:15:00+00:00</td>\n",
       "        <td>a48e47ab-bbcd-5b39-aaaa-47fbaafe166e</td>\n",
       "        <td>None</td>\n",
       "    </tr>\n",
       "    <tr>\n",
       "        <td>2018-06-07 22:00:00+00:00</td>\n",
       "        <td>a48e47ab-bbcd-5b39-aaaa-47fbaafe166e</td>\n",
       "        <td>None</td>\n",
       "    </tr>\n",
       "    <tr>\n",
       "        <td>2018-06-07 22:30:00+00:00</td>\n",
       "        <td>a48e47ab-bbcd-5b39-aaaa-47fbaafe166e</td>\n",
       "        <td>None</td>\n",
       "    </tr>\n",
       "    <tr>\n",
       "        <td>2018-06-07 23:00:00+00:00</td>\n",
       "        <td>a48e47ab-bbcd-5b39-aaaa-47fbaafe166e</td>\n",
       "        <td>None</td>\n",
       "    </tr>\n",
       "    <tr>\n",
       "        <td>2018-06-08 00:15:00+00:00</td>\n",
       "        <td>a48e47ab-bbcd-5b39-aaaa-47fbaafe166e</td>\n",
       "        <td>None</td>\n",
       "    </tr>\n",
       "    <tr>\n",
       "        <td>2018-06-08 00:45:00+00:00</td>\n",
       "        <td>a48e47ab-bbcd-5b39-aaaa-47fbaafe166e</td>\n",
       "        <td>None</td>\n",
       "    </tr>\n",
       "    <tr>\n",
       "        <td>2018-06-08 01:15:00+00:00</td>\n",
       "        <td>a48e47ab-bbcd-5b39-aaaa-47fbaafe166e</td>\n",
       "        <td>None</td>\n",
       "    </tr>\n",
       "    <tr>\n",
       "        <td>2018-06-08 02:00:00+00:00</td>\n",
       "        <td>a48e47ab-bbcd-5b39-aaaa-47fbaafe166e</td>\n",
       "        <td>None</td>\n",
       "    </tr>\n",
       "    <tr>\n",
       "        <td>2018-06-08 02:30:00+00:00</td>\n",
       "        <td>a48e47ab-bbcd-5b39-aaaa-47fbaafe166e</td>\n",
       "        <td>None</td>\n",
       "    </tr>\n",
       "    <tr>\n",
       "        <td>2018-06-08 03:00:00+00:00</td>\n",
       "        <td>a48e47ab-bbcd-5b39-aaaa-47fbaafe166e</td>\n",
       "        <td>None</td>\n",
       "    </tr>\n",
       "    <tr>\n",
       "        <td>2018-06-08 03:45:00+00:00</td>\n",
       "        <td>a48e47ab-bbcd-5b39-aaaa-47fbaafe166e</td>\n",
       "        <td>None</td>\n",
       "    </tr>\n",
       "    <tr>\n",
       "        <td>2018-06-08 04:15:00+00:00</td>\n",
       "        <td>a48e47ab-bbcd-5b39-aaaa-47fbaafe166e</td>\n",
       "        <td>None</td>\n",
       "    </tr>\n",
       "    <tr>\n",
       "        <td>2018-06-08 05:15:00+00:00</td>\n",
       "        <td>a48e47ab-bbcd-5b39-aaaa-47fbaafe166e</td>\n",
       "        <td>None</td>\n",
       "    </tr>\n",
       "    <tr>\n",
       "        <td>2018-06-08 15:30:00+00:00</td>\n",
       "        <td>a48e47ab-bbcd-5b39-aaaa-47fbaafe166e</td>\n",
       "        <td>None</td>\n",
       "    </tr>\n",
       "    <tr>\n",
       "        <td>2018-06-08 16:15:00+00:00</td>\n",
       "        <td>a48e47ab-bbcd-5b39-aaaa-47fbaafe166e</td>\n",
       "        <td>None</td>\n",
       "    </tr>\n",
       "    <tr>\n",
       "        <td>2018-06-08 16:45:00+00:00</td>\n",
       "        <td>a48e47ab-bbcd-5b39-aaaa-47fbaafe166e</td>\n",
       "        <td>None</td>\n",
       "    </tr>\n",
       "    <tr>\n",
       "        <td>2018-06-08 17:30:00+00:00</td>\n",
       "        <td>a48e47ab-bbcd-5b39-aaaa-47fbaafe166e</td>\n",
       "        <td>None</td>\n",
       "    </tr>\n",
       "    <tr>\n",
       "        <td>2018-06-08 18:00:00+00:00</td>\n",
       "        <td>a48e47ab-bbcd-5b39-aaaa-47fbaafe166e</td>\n",
       "        <td>None</td>\n",
       "    </tr>\n",
       "    <tr>\n",
       "        <td>2018-06-08 18:45:00+00:00</td>\n",
       "        <td>a48e47ab-bbcd-5b39-aaaa-47fbaafe166e</td>\n",
       "        <td>None</td>\n",
       "    </tr>\n",
       "    <tr>\n",
       "        <td>2018-06-08 19:15:00+00:00</td>\n",
       "        <td>a48e47ab-bbcd-5b39-aaaa-47fbaafe166e</td>\n",
       "        <td>None</td>\n",
       "    </tr>\n",
       "    <tr>\n",
       "        <td>2018-06-08 19:45:00+00:00</td>\n",
       "        <td>a48e47ab-bbcd-5b39-aaaa-47fbaafe166e</td>\n",
       "        <td>None</td>\n",
       "    </tr>\n",
       "    <tr>\n",
       "        <td>2018-06-08 20:15:00+00:00</td>\n",
       "        <td>a48e47ab-bbcd-5b39-aaaa-47fbaafe166e</td>\n",
       "        <td>None</td>\n",
       "    </tr>\n",
       "    <tr>\n",
       "        <td>2018-06-08 21:00:00+00:00</td>\n",
       "        <td>a48e47ab-bbcd-5b39-aaaa-47fbaafe166e</td>\n",
       "        <td>None</td>\n",
       "    </tr>\n",
       "    <tr>\n",
       "        <td>2018-06-08 21:30:00+00:00</td>\n",
       "        <td>a48e47ab-bbcd-5b39-aaaa-47fbaafe166e</td>\n",
       "        <td>None</td>\n",
       "    </tr>\n",
       "    <tr>\n",
       "        <td>2018-06-08 22:00:00+00:00</td>\n",
       "        <td>a48e47ab-bbcd-5b39-aaaa-47fbaafe166e</td>\n",
       "        <td>None</td>\n",
       "    </tr>\n",
       "    <tr>\n",
       "        <td>2018-06-08 23:15:00+00:00</td>\n",
       "        <td>a48e47ab-bbcd-5b39-aaaa-47fbaafe166e</td>\n",
       "        <td>None</td>\n",
       "    </tr>\n",
       "    <tr>\n",
       "        <td>2018-06-08 23:45:00+00:00</td>\n",
       "        <td>a48e47ab-bbcd-5b39-aaaa-47fbaafe166e</td>\n",
       "        <td>None</td>\n",
       "    </tr>\n",
       "    <tr>\n",
       "        <td>2018-06-09 00:15:00+00:00</td>\n",
       "        <td>a48e47ab-bbcd-5b39-aaaa-47fbaafe166e</td>\n",
       "        <td>None</td>\n",
       "    </tr>\n",
       "    <tr>\n",
       "        <td>2018-06-09 00:45:00+00:00</td>\n",
       "        <td>a48e47ab-bbcd-5b39-aaaa-47fbaafe166e</td>\n",
       "        <td>None</td>\n",
       "    </tr>\n",
       "    <tr>\n",
       "        <td>2018-06-09 02:00:00+00:00</td>\n",
       "        <td>a48e47ab-bbcd-5b39-aaaa-47fbaafe166e</td>\n",
       "        <td>None</td>\n",
       "    </tr>\n",
       "    <tr>\n",
       "        <td>2018-06-09 02:30:00+00:00</td>\n",
       "        <td>a48e47ab-bbcd-5b39-aaaa-47fbaafe166e</td>\n",
       "        <td>None</td>\n",
       "    </tr>\n",
       "    <tr>\n",
       "        <td>2018-06-09 03:45:00+00:00</td>\n",
       "        <td>a48e47ab-bbcd-5b39-aaaa-47fbaafe166e</td>\n",
       "        <td>None</td>\n",
       "    </tr>\n",
       "    <tr>\n",
       "        <td>2018-06-09 05:00:00+00:00</td>\n",
       "        <td>a48e47ab-bbcd-5b39-aaaa-47fbaafe166e</td>\n",
       "        <td>None</td>\n",
       "    </tr>\n",
       "    <tr>\n",
       "        <td>2018-06-09 17:45:00+00:00</td>\n",
       "        <td>a48e47ab-bbcd-5b39-aaaa-47fbaafe166e</td>\n",
       "        <td>None</td>\n",
       "    </tr>\n",
       "    <tr>\n",
       "        <td>2018-06-09 18:30:00+00:00</td>\n",
       "        <td>a48e47ab-bbcd-5b39-aaaa-47fbaafe166e</td>\n",
       "        <td>None</td>\n",
       "    </tr>\n",
       "    <tr>\n",
       "        <td>2018-06-09 19:15:00+00:00</td>\n",
       "        <td>a48e47ab-bbcd-5b39-aaaa-47fbaafe166e</td>\n",
       "        <td>None</td>\n",
       "    </tr>\n",
       "    <tr>\n",
       "        <td>2018-06-09 19:45:00+00:00</td>\n",
       "        <td>a48e47ab-bbcd-5b39-aaaa-47fbaafe166e</td>\n",
       "        <td>None</td>\n",
       "    </tr>\n",
       "    <tr>\n",
       "        <td>2018-06-09 20:15:00+00:00</td>\n",
       "        <td>a48e47ab-bbcd-5b39-aaaa-47fbaafe166e</td>\n",
       "        <td>None</td>\n",
       "    </tr>\n",
       "</table>"
      ],
      "text/plain": [
       "[(datetime.datetime(2018, 6, 13, 9, 0, tzinfo=datetime.timezone.utc), 'a3d47b1a-985e-5395-a6ee-719dad9b580f', None),\n",
       " (datetime.datetime(2018, 6, 9, 4, 0, tzinfo=datetime.timezone.utc), 'a3e8e405-0eed-59b6-8747-fe892a6f93de', None),\n",
       " (datetime.datetime(2018, 6, 13, 9, 0, tzinfo=datetime.timezone.utc), 'a46fb790-028c-5d17-a3e6-7d08daec0c03', None),\n",
       " (datetime.datetime(2018, 6, 9, 4, 0, tzinfo=datetime.timezone.utc), 'a470ac6d-d448-522b-9b74-8ed27f24de25', None),\n",
       " (datetime.datetime(2018, 6, 7, 0, 30, tzinfo=datetime.timezone.utc), 'a48e47ab-bbcd-5b39-aaaa-47fbaafe166e', None),\n",
       " (datetime.datetime(2018, 6, 7, 1, 15, tzinfo=datetime.timezone.utc), 'a48e47ab-bbcd-5b39-aaaa-47fbaafe166e', None),\n",
       " (datetime.datetime(2018, 6, 7, 17, 30, tzinfo=datetime.timezone.utc), 'a48e47ab-bbcd-5b39-aaaa-47fbaafe166e', None),\n",
       " (datetime.datetime(2018, 6, 7, 18, 30, tzinfo=datetime.timezone.utc), 'a48e47ab-bbcd-5b39-aaaa-47fbaafe166e', None),\n",
       " (datetime.datetime(2018, 6, 7, 19, 0, tzinfo=datetime.timezone.utc), 'a48e47ab-bbcd-5b39-aaaa-47fbaafe166e', None),\n",
       " (datetime.datetime(2018, 6, 7, 19, 30, tzinfo=datetime.timezone.utc), 'a48e47ab-bbcd-5b39-aaaa-47fbaafe166e', None),\n",
       " (datetime.datetime(2018, 6, 7, 20, 15, tzinfo=datetime.timezone.utc), 'a48e47ab-bbcd-5b39-aaaa-47fbaafe166e', None),\n",
       " (datetime.datetime(2018, 6, 7, 20, 45, tzinfo=datetime.timezone.utc), 'a48e47ab-bbcd-5b39-aaaa-47fbaafe166e', None),\n",
       " (datetime.datetime(2018, 6, 7, 21, 15, tzinfo=datetime.timezone.utc), 'a48e47ab-bbcd-5b39-aaaa-47fbaafe166e', None),\n",
       " (datetime.datetime(2018, 6, 7, 22, 0, tzinfo=datetime.timezone.utc), 'a48e47ab-bbcd-5b39-aaaa-47fbaafe166e', None),\n",
       " (datetime.datetime(2018, 6, 7, 22, 30, tzinfo=datetime.timezone.utc), 'a48e47ab-bbcd-5b39-aaaa-47fbaafe166e', None),\n",
       " (datetime.datetime(2018, 6, 7, 23, 0, tzinfo=datetime.timezone.utc), 'a48e47ab-bbcd-5b39-aaaa-47fbaafe166e', None),\n",
       " (datetime.datetime(2018, 6, 8, 0, 15, tzinfo=datetime.timezone.utc), 'a48e47ab-bbcd-5b39-aaaa-47fbaafe166e', None),\n",
       " (datetime.datetime(2018, 6, 8, 0, 45, tzinfo=datetime.timezone.utc), 'a48e47ab-bbcd-5b39-aaaa-47fbaafe166e', None),\n",
       " (datetime.datetime(2018, 6, 8, 1, 15, tzinfo=datetime.timezone.utc), 'a48e47ab-bbcd-5b39-aaaa-47fbaafe166e', None),\n",
       " (datetime.datetime(2018, 6, 8, 2, 0, tzinfo=datetime.timezone.utc), 'a48e47ab-bbcd-5b39-aaaa-47fbaafe166e', None),\n",
       " (datetime.datetime(2018, 6, 8, 2, 30, tzinfo=datetime.timezone.utc), 'a48e47ab-bbcd-5b39-aaaa-47fbaafe166e', None),\n",
       " (datetime.datetime(2018, 6, 8, 3, 0, tzinfo=datetime.timezone.utc), 'a48e47ab-bbcd-5b39-aaaa-47fbaafe166e', None),\n",
       " (datetime.datetime(2018, 6, 8, 3, 45, tzinfo=datetime.timezone.utc), 'a48e47ab-bbcd-5b39-aaaa-47fbaafe166e', None),\n",
       " (datetime.datetime(2018, 6, 8, 4, 15, tzinfo=datetime.timezone.utc), 'a48e47ab-bbcd-5b39-aaaa-47fbaafe166e', None),\n",
       " (datetime.datetime(2018, 6, 8, 5, 15, tzinfo=datetime.timezone.utc), 'a48e47ab-bbcd-5b39-aaaa-47fbaafe166e', None),\n",
       " (datetime.datetime(2018, 6, 8, 15, 30, tzinfo=datetime.timezone.utc), 'a48e47ab-bbcd-5b39-aaaa-47fbaafe166e', None),\n",
       " (datetime.datetime(2018, 6, 8, 16, 15, tzinfo=datetime.timezone.utc), 'a48e47ab-bbcd-5b39-aaaa-47fbaafe166e', None),\n",
       " (datetime.datetime(2018, 6, 8, 16, 45, tzinfo=datetime.timezone.utc), 'a48e47ab-bbcd-5b39-aaaa-47fbaafe166e', None),\n",
       " (datetime.datetime(2018, 6, 8, 17, 30, tzinfo=datetime.timezone.utc), 'a48e47ab-bbcd-5b39-aaaa-47fbaafe166e', None),\n",
       " (datetime.datetime(2018, 6, 8, 18, 0, tzinfo=datetime.timezone.utc), 'a48e47ab-bbcd-5b39-aaaa-47fbaafe166e', None),\n",
       " (datetime.datetime(2018, 6, 8, 18, 45, tzinfo=datetime.timezone.utc), 'a48e47ab-bbcd-5b39-aaaa-47fbaafe166e', None),\n",
       " (datetime.datetime(2018, 6, 8, 19, 15, tzinfo=datetime.timezone.utc), 'a48e47ab-bbcd-5b39-aaaa-47fbaafe166e', None),\n",
       " (datetime.datetime(2018, 6, 8, 19, 45, tzinfo=datetime.timezone.utc), 'a48e47ab-bbcd-5b39-aaaa-47fbaafe166e', None),\n",
       " (datetime.datetime(2018, 6, 8, 20, 15, tzinfo=datetime.timezone.utc), 'a48e47ab-bbcd-5b39-aaaa-47fbaafe166e', None),\n",
       " (datetime.datetime(2018, 6, 8, 21, 0, tzinfo=datetime.timezone.utc), 'a48e47ab-bbcd-5b39-aaaa-47fbaafe166e', None),\n",
       " (datetime.datetime(2018, 6, 8, 21, 30, tzinfo=datetime.timezone.utc), 'a48e47ab-bbcd-5b39-aaaa-47fbaafe166e', None),\n",
       " (datetime.datetime(2018, 6, 8, 22, 0, tzinfo=datetime.timezone.utc), 'a48e47ab-bbcd-5b39-aaaa-47fbaafe166e', None),\n",
       " (datetime.datetime(2018, 6, 8, 23, 15, tzinfo=datetime.timezone.utc), 'a48e47ab-bbcd-5b39-aaaa-47fbaafe166e', None),\n",
       " (datetime.datetime(2018, 6, 8, 23, 45, tzinfo=datetime.timezone.utc), 'a48e47ab-bbcd-5b39-aaaa-47fbaafe166e', None),\n",
       " (datetime.datetime(2018, 6, 9, 0, 15, tzinfo=datetime.timezone.utc), 'a48e47ab-bbcd-5b39-aaaa-47fbaafe166e', None),\n",
       " (datetime.datetime(2018, 6, 9, 0, 45, tzinfo=datetime.timezone.utc), 'a48e47ab-bbcd-5b39-aaaa-47fbaafe166e', None),\n",
       " (datetime.datetime(2018, 6, 9, 2, 0, tzinfo=datetime.timezone.utc), 'a48e47ab-bbcd-5b39-aaaa-47fbaafe166e', None),\n",
       " (datetime.datetime(2018, 6, 9, 2, 30, tzinfo=datetime.timezone.utc), 'a48e47ab-bbcd-5b39-aaaa-47fbaafe166e', None),\n",
       " (datetime.datetime(2018, 6, 9, 3, 45, tzinfo=datetime.timezone.utc), 'a48e47ab-bbcd-5b39-aaaa-47fbaafe166e', None),\n",
       " (datetime.datetime(2018, 6, 9, 5, 0, tzinfo=datetime.timezone.utc), 'a48e47ab-bbcd-5b39-aaaa-47fbaafe166e', None),\n",
       " (datetime.datetime(2018, 6, 9, 17, 45, tzinfo=datetime.timezone.utc), 'a48e47ab-bbcd-5b39-aaaa-47fbaafe166e', None),\n",
       " (datetime.datetime(2018, 6, 9, 18, 30, tzinfo=datetime.timezone.utc), 'a48e47ab-bbcd-5b39-aaaa-47fbaafe166e', None),\n",
       " (datetime.datetime(2018, 6, 9, 19, 15, tzinfo=datetime.timezone.utc), 'a48e47ab-bbcd-5b39-aaaa-47fbaafe166e', None),\n",
       " (datetime.datetime(2018, 6, 9, 19, 45, tzinfo=datetime.timezone.utc), 'a48e47ab-bbcd-5b39-aaaa-47fbaafe166e', None),\n",
       " (datetime.datetime(2018, 6, 9, 20, 15, tzinfo=datetime.timezone.utc), 'a48e47ab-bbcd-5b39-aaaa-47fbaafe166e', None)]"
      ]
     },
     "execution_count": 39,
     "metadata": {},
     "output_type": "execute_result"
    }
   ],
   "source": [
    "%%sql\n",
    "with missing as (select g_time, id, null as value\n",
    "                 from gaps, LATERAL generate_series(lagtime + interval '15 minute', \n",
    "                            time - interval '15 minutes', interval '15 minutes') as g_time)\n",
    "SELECT g_time as time, id, CAST(value AS real) FROM missing\n",
    "UNION ALL\n",
    "SELECT time, id, value FROM data\n",
    "limit 50;"
   ]
  },
  {
   "cell_type": "code",
   "execution_count": 40,
   "metadata": {
    "scrolled": true
   },
   "outputs": [
    {
     "name": "stdout",
     "output_type": "stream",
     "text": [
      "   postgresql://jovyan@127.0.0.1:5432/template1\n",
      " * postgresql://jovyan@127.0.0.1:5432/ucb_buildings\n",
      "Done.\n",
      "100 rows affected.\n",
      "Returning data to local variable result_4b\n"
     ]
    }
   ],
   "source": [
    "%%sql result_4b <<\n",
    "CREATE OR REPLACE VIEW complete AS\n",
    "with missing as (select g_time, id, null as value\n",
    "                 from gaps, LATERAL generate_series(lagtime + interval '15 minute', \n",
    "                            time - interval '15 minutes', interval '15 minutes') as g_time)\n",
    "SELECT g_time as time, id, CAST(value AS real) FROM missing\n",
    "UNION ALL\n",
    "SELECT time, id, value FROM data;\n",
    "\n",
    "SELECT * FROM complete ORDER BY id, time LIMIT 100;"
   ]
  },
  {
   "cell_type": "code",
   "execution_count": 41,
   "metadata": {},
   "outputs": [],
   "source": [
    "# Do not delete/edit this cell\n",
    "result_4b.DataFrame().to_csv('results/result_4b.csv', index=False)"
   ]
  },
  {
   "cell_type": "code",
   "execution_count": 42,
   "metadata": {
    "deletable": false,
    "editable": false
   },
   "outputs": [
    {
     "data": {
      "text/html": [
       "<p><strong><pre style='display: inline;'>q4b</pre></strong> passed!</p>"
      ],
      "text/plain": [
       "q4b results: All test cases passed!"
      ]
     },
     "execution_count": 42,
     "metadata": {},
     "output_type": "execute_result"
    }
   ],
   "source": [
    "grader.check(\"q4b\")"
   ]
  },
  {
   "cell_type": "markdown",
   "metadata": {},
   "source": [
    "### Question 4c: Linear Interpolation\n",
    "*Note: If you struggled with the previous subparts of this problem, you can use our table `complete_provided` instead of your `complete` table in this subpart.*\n",
    "\n",
    "Now, given the `complete` view or the `complete_provided` table, the remaining task is to do linear interpolation to fill in the missing values we manufactured in Step 2. We have code from **this semester's** Lecture 14 (Data Cleaning) we can reuse here! In particular, your database already includes the UDA `coalesce_agg` we used in lecture (you can use it directly, there's no need to redefine it).\n",
    "\n",
    "But note that in Lecture 14's example of linear interpolation we had a field called `entry_rank` that was used to order *all* the records in the table. By contrast, here the ordering we care about is the series of `time` for each sensor `id` *independently*. You will need to make minor changes to adapt the linear interpolation code from class to work here.\n",
    "\n",
    "Create a view `likely_data` that contains all the tuples from `complete`, with an additional column called `interpolated` that contains a copy of `value` if it is non-NULL, otherwise an interpolated value based on linear interpolation *per sensor id over time*. Please **retain all additional columns created from forward and backward passes** (there should be 10 columns in the view - the order of the columns does not matter.) The three cells below correspond to the forward, backward, and final passes from lecture."
   ]
  },
  {
   "cell_type": "code",
   "execution_count": 43,
   "metadata": {},
   "outputs": [
    {
     "name": "stdout",
     "output_type": "stream",
     "text": [
      "   postgresql://jovyan@127.0.0.1:5432/template1\n",
      " * postgresql://jovyan@127.0.0.1:5432/ucb_buildings\n",
      "Done.\n"
     ]
    },
    {
     "data": {
      "text/plain": [
       "[]"
      ]
     },
     "execution_count": 43,
     "metadata": {},
     "output_type": "execute_result"
    }
   ],
   "source": [
    "%%sql\n",
    "CREATE OR REPLACE VIEW forward AS\n",
    "select *, SUM(CASE WHEN value IS NULL THEN 0 ELSE 1 END) \n",
    "    OVER (partition by id ORDER BY time) AS run,\n",
    "    coalesce_agg(value) OVER (partition by id ORDER BY time) AS run_start,\n",
    "    CASE WHEN value IS NULL THEN lead(value, 1) OVER (partition by id ORDER BY time) \n",
    "    ELSE NULL\n",
    "    END AS nextval\n",
    "    from complete;"
   ]
  },
  {
   "cell_type": "code",
   "execution_count": 44,
   "metadata": {},
   "outputs": [
    {
     "name": "stdout",
     "output_type": "stream",
     "text": [
      "   postgresql://jovyan@127.0.0.1:5432/template1\n",
      " * postgresql://jovyan@127.0.0.1:5432/ucb_buildings\n",
      "Done.\n"
     ]
    },
    {
     "data": {
      "text/plain": [
       "[]"
      ]
     },
     "execution_count": 44,
     "metadata": {},
     "output_type": "execute_result"
    }
   ],
   "source": [
    "%%sql\n",
    "CREATE OR REPLACE VIEW backward AS\n",
    "select *, CASE WHEN value IS NOT NULL THEN value\n",
    "            ELSE coalesce_agg(nextval) OVER (PARTITION BY run, id ORDER BY time DESC)\n",
    "       END AS run_end,\n",
    "        count(*) OVER (PARTITION BY run, id) AS run_size,\n",
    "        count(*) OVER (PARTITION BY run, id ORDER BY time) AS run_rank\n",
    "from forward;"
   ]
  },
  {
   "cell_type": "code",
   "execution_count": 45,
   "metadata": {},
   "outputs": [
    {
     "name": "stdout",
     "output_type": "stream",
     "text": [
      "   postgresql://jovyan@127.0.0.1:5432/template1\n",
      " * postgresql://jovyan@127.0.0.1:5432/ucb_buildings\n",
      "Done.\n",
      "100 rows affected.\n",
      "Returning data to local variable result_4c\n"
     ]
    }
   ],
   "source": [
    "%%sql result_4c <<\n",
    "CREATE OR REPLACE VIEW likely_data AS\n",
    "SELECT *, run_start + (run_rank-1)*((run_end-run_start)/(run_size)) AS interpolated\n",
    "  FROM backward;\n",
    "SELECT * FROM likely_data WHERE run_size > 2 ORDER BY id, time LIMIT 100;"
   ]
  },
  {
   "cell_type": "code",
   "execution_count": 46,
   "metadata": {},
   "outputs": [],
   "source": [
    "# Do not delete/edit this cell\n",
    "result_4c.DataFrame().to_csv('results/result_4c.csv', index=False)"
   ]
  },
  {
   "cell_type": "code",
   "execution_count": 47,
   "metadata": {
    "deletable": false,
    "editable": false
   },
   "outputs": [
    {
     "data": {
      "text/html": [
       "<p><strong><pre style='display: inline;'>q4c</pre></strong> passed!</p>"
      ],
      "text/plain": [
       "q4c results: All test cases passed!"
      ]
     },
     "execution_count": 47,
     "metadata": {},
     "output_type": "execute_result"
    }
   ],
   "source": [
    "grader.check(\"q4c\")"
   ]
  },
  {
   "cell_type": "markdown",
   "metadata": {},
   "source": [
    "## Congratulations! You have finished Project 3.\n",
    "\n",
    "Run the following cell to zip and download the results of your queries. You will also need to run the export cell at the end of the notebook.\n",
    "\n",
    "**For submission on Gradescope, you will need to submit BOTH the proj3.zip file genreated by the export cell and the results.zip file generated by the following cell.**\n",
    "\n",
    "**Common submission issues:** You MUST submit the generated zip files (not folders) to the autograder. However, Safari is known to automatically unzip files upon downloading. You can fix this by going into Safari preferences, and deselect the box with the text \"Open safe files after downloading\" under the \"General\" tab. If you experience issues with downloading via clicking on the link, you can also navigate to the project 3 directory within JupyterHub (remove `proj3.ipynb` from the url), and manually download the generated zip files. Please post on Ed if you encounter any other submission issues."
   ]
  },
  {
   "cell_type": "code",
   "execution_count": 48,
   "metadata": {},
   "outputs": [
    {
     "name": "stdout",
     "output_type": "stream",
     "text": [
      "updating: results/ (stored 0%)\r\n",
      "updating: results/result_1b.csv (deflated 78%)\r\n",
      "updating: results/result_1c.csv (deflated 58%)\r\n",
      "updating: results/result_2a.csv (deflated 92%)\r\n",
      "updating: results/result_2b.csv (deflated 92%)\r\n",
      "updating: results/result_3b.csv (deflated 43%)\r\n",
      "updating: results/result_3c.csv (stored 0%)\r\n",
      "updating: results/result_3e.csv (deflated 76%)\r\n",
      "updating: results/result_4a.csv (deflated 73%)\r\n",
      "updating: results/result_4b.csv (deflated 91%)\r\n",
      "updating: results/result_4c.csv (deflated 86%)\r\n"
     ]
    },
    {
     "data": {
      "text/html": [
       "Click here to download: <a href='./results.zip' target='_blank'>./results.zip</a><br>"
      ],
      "text/plain": [
       "/home/jovyan/fa22/proj/proj3/results.zip"
      ]
     },
     "metadata": {},
     "output_type": "display_data"
    }
   ],
   "source": [
    "from IPython.display import display, FileLink\n",
    "\n",
    "!zip -r results.zip results\n",
    "results_file = FileLink('./results.zip', result_html_prefix=\"Click here to download: \")\n",
    "display(results_file)"
   ]
  },
  {
   "cell_type": "markdown",
   "metadata": {
    "deletable": false,
    "editable": false
   },
   "source": [
    "---\n",
    "\n",
    "To double-check your work, the cell below will rerun all of the autograder tests."
   ]
  },
  {
   "cell_type": "code",
   "execution_count": 49,
   "metadata": {
    "deletable": false,
    "editable": false
   },
   "outputs": [
    {
     "data": {
      "text/plain": [
       "q1b results: All test cases passed!\n",
       "\n",
       "q1c results: All test cases passed!\n",
       "\n",
       "q2a results: All test cases passed!\n",
       "\n",
       "q2b results: All test cases passed!\n",
       "\n",
       "q3b results: All test cases passed!\n",
       "\n",
       "q3c results: All test cases passed!\n",
       "\n",
       "q3e results: All test cases passed!\n",
       "\n",
       "q4a results: All test cases passed!\n",
       "\n",
       "q4b results: All test cases passed!\n",
       "\n",
       "q4c results: All test cases passed!"
      ]
     },
     "execution_count": 49,
     "metadata": {},
     "output_type": "execute_result"
    }
   ],
   "source": [
    "grader.check_all()"
   ]
  },
  {
   "cell_type": "markdown",
   "metadata": {
    "deletable": false,
    "editable": false
   },
   "source": [
    "## Submission\n",
    "\n",
    "Make sure you have run all cells in your notebook in order before running the cell below, so that all images/graphs appear in the output. The cell below will generate a zip file for you to submit. **Please save before exporting!**"
   ]
  },
  {
   "cell_type": "code",
   "execution_count": 50,
   "metadata": {
    "deletable": false,
    "editable": false
   },
   "outputs": [
    {
     "data": {
      "text/html": [
       "\n",
       "            <p>Your submission has been exported. Click <a href=\"proj3_2022_11_02T02_36_10_936656.zip\" download=\"proj3_2022_11_02T02_36_10_936656.zip\" target=\"_blank\">here</a>\n",
       "            to download the zip file.</p>\n",
       "            "
      ],
      "text/plain": [
       "<IPython.core.display.HTML object>"
      ]
     },
     "metadata": {},
     "output_type": "display_data"
    }
   ],
   "source": [
    "# Save your notebook first, then run this cell to export your submission.\n",
    "grader.export()"
   ]
  },
  {
   "cell_type": "markdown",
   "metadata": {},
   "source": [
    " "
   ]
  }
 ],
 "metadata": {
  "anaconda-cloud": {},
  "kernelspec": {
   "display_name": "Python 3 (ipykernel)",
   "language": "python",
   "name": "python3"
  },
  "language_info": {
   "codemirror_mode": {
    "name": "ipython",
    "version": 3
   },
   "file_extension": ".py",
   "mimetype": "text/x-python",
   "name": "python",
   "nbconvert_exporter": "python",
   "pygments_lexer": "ipython3",
   "version": "3.9.15"
  }
 },
 "nbformat": 4,
 "nbformat_minor": 4
}
